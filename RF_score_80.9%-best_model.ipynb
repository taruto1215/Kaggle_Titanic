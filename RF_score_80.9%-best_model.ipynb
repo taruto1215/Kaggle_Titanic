{
 "cells": [
  {
   "cell_type": "markdown",
   "metadata": {},
   "source": [
    "このスクリプトで、Public  Score = 0.80861を獲得しました。<br>\n",
    "2020/6/12現在、上位７％になっています。\n",
    "ご参考にどうぞ"
   ]
  },
  {
   "cell_type": "markdown",
   "metadata": {},
   "source": [
    "# 0.ライブラリ・データの読み込み"
   ]
  },
  {
   "cell_type": "code",
   "execution_count": 44,
   "metadata": {},
   "outputs": [],
   "source": [
    "import numpy as np\n",
    "import pandas as pd\n",
    "from pandas import DataFrame, Series\n",
    "import matplotlib.pyplot as plt\n",
    "import seaborn as sns\n",
    "\n",
    "from sklearn.preprocessing import StandardScaler\n",
    "\n",
    "from sklearn.model_selection import StratifiedKFold\n",
    "from sklearn.model_selection import train_test_split\n",
    "from sklearn.ensemble import RandomForestClassifier\n",
    "\n",
    "from sklearn.metrics import log_loss\n",
    "\n",
    "import warnings\n",
    "warnings.filterwarnings('ignore')"
   ]
  },
  {
   "cell_type": "code",
   "execution_count": 45,
   "metadata": {},
   "outputs": [
    {
     "data": {
      "text/html": [
       "<div>\n",
       "<style scoped>\n",
       "    .dataframe tbody tr th:only-of-type {\n",
       "        vertical-align: middle;\n",
       "    }\n",
       "\n",
       "    .dataframe tbody tr th {\n",
       "        vertical-align: top;\n",
       "    }\n",
       "\n",
       "    .dataframe thead th {\n",
       "        text-align: right;\n",
       "    }\n",
       "</style>\n",
       "<table border=\"1\" class=\"dataframe\">\n",
       "  <thead>\n",
       "    <tr style=\"text-align: right;\">\n",
       "      <th></th>\n",
       "      <th>PassengerId</th>\n",
       "      <th>Survived</th>\n",
       "      <th>Pclass</th>\n",
       "      <th>Name</th>\n",
       "      <th>Sex</th>\n",
       "      <th>Age</th>\n",
       "      <th>SibSp</th>\n",
       "      <th>Parch</th>\n",
       "      <th>Ticket</th>\n",
       "      <th>Fare</th>\n",
       "      <th>Cabin</th>\n",
       "      <th>Embarked</th>\n",
       "    </tr>\n",
       "  </thead>\n",
       "  <tbody>\n",
       "    <tr>\n",
       "      <th>0</th>\n",
       "      <td>1</td>\n",
       "      <td>0</td>\n",
       "      <td>3</td>\n",
       "      <td>Braund, Mr. Owen Harris</td>\n",
       "      <td>male</td>\n",
       "      <td>22.0</td>\n",
       "      <td>1</td>\n",
       "      <td>0</td>\n",
       "      <td>A/5 21171</td>\n",
       "      <td>7.2500</td>\n",
       "      <td>NaN</td>\n",
       "      <td>S</td>\n",
       "    </tr>\n",
       "    <tr>\n",
       "      <th>1</th>\n",
       "      <td>2</td>\n",
       "      <td>1</td>\n",
       "      <td>1</td>\n",
       "      <td>Cumings, Mrs. John Bradley (Florence Briggs Th...</td>\n",
       "      <td>female</td>\n",
       "      <td>38.0</td>\n",
       "      <td>1</td>\n",
       "      <td>0</td>\n",
       "      <td>PC 17599</td>\n",
       "      <td>71.2833</td>\n",
       "      <td>C85</td>\n",
       "      <td>C</td>\n",
       "    </tr>\n",
       "    <tr>\n",
       "      <th>2</th>\n",
       "      <td>3</td>\n",
       "      <td>1</td>\n",
       "      <td>3</td>\n",
       "      <td>Heikkinen, Miss. Laina</td>\n",
       "      <td>female</td>\n",
       "      <td>26.0</td>\n",
       "      <td>0</td>\n",
       "      <td>0</td>\n",
       "      <td>STON/O2. 3101282</td>\n",
       "      <td>7.9250</td>\n",
       "      <td>NaN</td>\n",
       "      <td>S</td>\n",
       "    </tr>\n",
       "    <tr>\n",
       "      <th>3</th>\n",
       "      <td>4</td>\n",
       "      <td>1</td>\n",
       "      <td>1</td>\n",
       "      <td>Futrelle, Mrs. Jacques Heath (Lily May Peel)</td>\n",
       "      <td>female</td>\n",
       "      <td>35.0</td>\n",
       "      <td>1</td>\n",
       "      <td>0</td>\n",
       "      <td>113803</td>\n",
       "      <td>53.1000</td>\n",
       "      <td>C123</td>\n",
       "      <td>S</td>\n",
       "    </tr>\n",
       "    <tr>\n",
       "      <th>4</th>\n",
       "      <td>5</td>\n",
       "      <td>0</td>\n",
       "      <td>3</td>\n",
       "      <td>Allen, Mr. William Henry</td>\n",
       "      <td>male</td>\n",
       "      <td>35.0</td>\n",
       "      <td>0</td>\n",
       "      <td>0</td>\n",
       "      <td>373450</td>\n",
       "      <td>8.0500</td>\n",
       "      <td>NaN</td>\n",
       "      <td>S</td>\n",
       "    </tr>\n",
       "    <tr>\n",
       "      <th>5</th>\n",
       "      <td>6</td>\n",
       "      <td>0</td>\n",
       "      <td>3</td>\n",
       "      <td>Moran, Mr. James</td>\n",
       "      <td>male</td>\n",
       "      <td>NaN</td>\n",
       "      <td>0</td>\n",
       "      <td>0</td>\n",
       "      <td>330877</td>\n",
       "      <td>8.4583</td>\n",
       "      <td>NaN</td>\n",
       "      <td>Q</td>\n",
       "    </tr>\n",
       "    <tr>\n",
       "      <th>6</th>\n",
       "      <td>7</td>\n",
       "      <td>0</td>\n",
       "      <td>1</td>\n",
       "      <td>McCarthy, Mr. Timothy J</td>\n",
       "      <td>male</td>\n",
       "      <td>54.0</td>\n",
       "      <td>0</td>\n",
       "      <td>0</td>\n",
       "      <td>17463</td>\n",
       "      <td>51.8625</td>\n",
       "      <td>E46</td>\n",
       "      <td>S</td>\n",
       "    </tr>\n",
       "    <tr>\n",
       "      <th>7</th>\n",
       "      <td>8</td>\n",
       "      <td>0</td>\n",
       "      <td>3</td>\n",
       "      <td>Palsson, Master. Gosta Leonard</td>\n",
       "      <td>male</td>\n",
       "      <td>2.0</td>\n",
       "      <td>3</td>\n",
       "      <td>1</td>\n",
       "      <td>349909</td>\n",
       "      <td>21.0750</td>\n",
       "      <td>NaN</td>\n",
       "      <td>S</td>\n",
       "    </tr>\n",
       "    <tr>\n",
       "      <th>8</th>\n",
       "      <td>9</td>\n",
       "      <td>1</td>\n",
       "      <td>3</td>\n",
       "      <td>Johnson, Mrs. Oscar W (Elisabeth Vilhelmina Berg)</td>\n",
       "      <td>female</td>\n",
       "      <td>27.0</td>\n",
       "      <td>0</td>\n",
       "      <td>2</td>\n",
       "      <td>347742</td>\n",
       "      <td>11.1333</td>\n",
       "      <td>NaN</td>\n",
       "      <td>S</td>\n",
       "    </tr>\n",
       "    <tr>\n",
       "      <th>9</th>\n",
       "      <td>10</td>\n",
       "      <td>1</td>\n",
       "      <td>2</td>\n",
       "      <td>Nasser, Mrs. Nicholas (Adele Achem)</td>\n",
       "      <td>female</td>\n",
       "      <td>14.0</td>\n",
       "      <td>1</td>\n",
       "      <td>0</td>\n",
       "      <td>237736</td>\n",
       "      <td>30.0708</td>\n",
       "      <td>NaN</td>\n",
       "      <td>C</td>\n",
       "    </tr>\n",
       "  </tbody>\n",
       "</table>\n",
       "</div>"
      ],
      "text/plain": [
       "   PassengerId  Survived  Pclass  \\\n",
       "0            1         0       3   \n",
       "1            2         1       1   \n",
       "2            3         1       3   \n",
       "3            4         1       1   \n",
       "4            5         0       3   \n",
       "5            6         0       3   \n",
       "6            7         0       1   \n",
       "7            8         0       3   \n",
       "8            9         1       3   \n",
       "9           10         1       2   \n",
       "\n",
       "                                                Name     Sex   Age  SibSp  \\\n",
       "0                            Braund, Mr. Owen Harris    male  22.0      1   \n",
       "1  Cumings, Mrs. John Bradley (Florence Briggs Th...  female  38.0      1   \n",
       "2                             Heikkinen, Miss. Laina  female  26.0      0   \n",
       "3       Futrelle, Mrs. Jacques Heath (Lily May Peel)  female  35.0      1   \n",
       "4                           Allen, Mr. William Henry    male  35.0      0   \n",
       "5                                   Moran, Mr. James    male   NaN      0   \n",
       "6                            McCarthy, Mr. Timothy J    male  54.0      0   \n",
       "7                     Palsson, Master. Gosta Leonard    male   2.0      3   \n",
       "8  Johnson, Mrs. Oscar W (Elisabeth Vilhelmina Berg)  female  27.0      0   \n",
       "9                Nasser, Mrs. Nicholas (Adele Achem)  female  14.0      1   \n",
       "\n",
       "   Parch            Ticket     Fare Cabin Embarked  \n",
       "0      0         A/5 21171   7.2500   NaN        S  \n",
       "1      0          PC 17599  71.2833   C85        C  \n",
       "2      0  STON/O2. 3101282   7.9250   NaN        S  \n",
       "3      0            113803  53.1000  C123        S  \n",
       "4      0            373450   8.0500   NaN        S  \n",
       "5      0            330877   8.4583   NaN        Q  \n",
       "6      0             17463  51.8625   E46        S  \n",
       "7      1            349909  21.0750   NaN        S  \n",
       "8      2            347742  11.1333   NaN        S  \n",
       "9      0            237736  30.0708   NaN        C  "
      ]
     },
     "execution_count": 45,
     "metadata": {},
     "output_type": "execute_result"
    }
   ],
   "source": [
    "path = \"./input/\"\n",
    "\n",
    "df = pd.read_csv(path + 'train.csv')\n",
    "df_test = pd.read_csv(path + 'test.csv')\n",
    "df.head(10)"
   ]
  },
  {
   "cell_type": "markdown",
   "metadata": {},
   "source": [
    "# 1.データの概観・分析・前処理"
   ]
  },
  {
   "cell_type": "markdown",
   "metadata": {},
   "source": [
    "## 1.1データの概観"
   ]
  },
  {
   "cell_type": "code",
   "execution_count": 46,
   "metadata": {},
   "outputs": [
    {
     "name": "stdout",
     "output_type": "stream",
     "text": [
      "n = 891, d = 12 @ train data\n",
      "n = 418, d = 11 @ test data\n"
     ]
    }
   ],
   "source": [
    "tr_n,tr_d = df.shape\n",
    "va_n,va_d = df_test.shape\n",
    "print('n = {}, d = {} @ train data'.format(tr_n, tr_d))\n",
    "print('n = {}, d = {} @ test data'.format(va_n,va_d))"
   ]
  },
  {
   "cell_type": "code",
   "execution_count": 47,
   "metadata": {},
   "outputs": [
    {
     "name": "stdout",
     "output_type": "stream",
     "text": [
      "<class 'pandas.core.frame.DataFrame'>\n",
      "RangeIndex: 891 entries, 0 to 890\n",
      "Data columns (total 12 columns):\n",
      "PassengerId    891 non-null int64\n",
      "Survived       891 non-null int64\n",
      "Pclass         891 non-null int64\n",
      "Name           891 non-null object\n",
      "Sex            891 non-null object\n",
      "Age            714 non-null float64\n",
      "SibSp          891 non-null int64\n",
      "Parch          891 non-null int64\n",
      "Ticket         891 non-null object\n",
      "Fare           891 non-null float64\n",
      "Cabin          204 non-null object\n",
      "Embarked       889 non-null object\n",
      "dtypes: float64(2), int64(5), object(5)\n",
      "memory usage: 83.6+ KB\n"
     ]
    }
   ],
   "source": [
    "#データ型の確認\n",
    "df.info()"
   ]
  },
  {
   "cell_type": "code",
   "execution_count": 48,
   "metadata": {},
   "outputs": [
    {
     "data": {
      "text/html": [
       "<div>\n",
       "<style scoped>\n",
       "    .dataframe tbody tr th:only-of-type {\n",
       "        vertical-align: middle;\n",
       "    }\n",
       "\n",
       "    .dataframe tbody tr th {\n",
       "        vertical-align: top;\n",
       "    }\n",
       "\n",
       "    .dataframe thead th {\n",
       "        text-align: right;\n",
       "    }\n",
       "</style>\n",
       "<table border=\"1\" class=\"dataframe\">\n",
       "  <thead>\n",
       "    <tr style=\"text-align: right;\">\n",
       "      <th></th>\n",
       "      <th>PassengerId</th>\n",
       "      <th>Survived</th>\n",
       "      <th>Pclass</th>\n",
       "      <th>Age</th>\n",
       "      <th>SibSp</th>\n",
       "      <th>Parch</th>\n",
       "      <th>Fare</th>\n",
       "    </tr>\n",
       "  </thead>\n",
       "  <tbody>\n",
       "    <tr>\n",
       "      <th>count</th>\n",
       "      <td>891.000000</td>\n",
       "      <td>891.000000</td>\n",
       "      <td>891.000000</td>\n",
       "      <td>714.000000</td>\n",
       "      <td>891.000000</td>\n",
       "      <td>891.000000</td>\n",
       "      <td>891.000000</td>\n",
       "    </tr>\n",
       "    <tr>\n",
       "      <th>mean</th>\n",
       "      <td>446.000000</td>\n",
       "      <td>0.383838</td>\n",
       "      <td>2.308642</td>\n",
       "      <td>29.699118</td>\n",
       "      <td>0.523008</td>\n",
       "      <td>0.381594</td>\n",
       "      <td>32.204208</td>\n",
       "    </tr>\n",
       "    <tr>\n",
       "      <th>std</th>\n",
       "      <td>257.353842</td>\n",
       "      <td>0.486592</td>\n",
       "      <td>0.836071</td>\n",
       "      <td>14.526497</td>\n",
       "      <td>1.102743</td>\n",
       "      <td>0.806057</td>\n",
       "      <td>49.693429</td>\n",
       "    </tr>\n",
       "    <tr>\n",
       "      <th>min</th>\n",
       "      <td>1.000000</td>\n",
       "      <td>0.000000</td>\n",
       "      <td>1.000000</td>\n",
       "      <td>0.420000</td>\n",
       "      <td>0.000000</td>\n",
       "      <td>0.000000</td>\n",
       "      <td>0.000000</td>\n",
       "    </tr>\n",
       "    <tr>\n",
       "      <th>25%</th>\n",
       "      <td>223.500000</td>\n",
       "      <td>0.000000</td>\n",
       "      <td>2.000000</td>\n",
       "      <td>20.125000</td>\n",
       "      <td>0.000000</td>\n",
       "      <td>0.000000</td>\n",
       "      <td>7.910400</td>\n",
       "    </tr>\n",
       "    <tr>\n",
       "      <th>50%</th>\n",
       "      <td>446.000000</td>\n",
       "      <td>0.000000</td>\n",
       "      <td>3.000000</td>\n",
       "      <td>28.000000</td>\n",
       "      <td>0.000000</td>\n",
       "      <td>0.000000</td>\n",
       "      <td>14.454200</td>\n",
       "    </tr>\n",
       "    <tr>\n",
       "      <th>75%</th>\n",
       "      <td>668.500000</td>\n",
       "      <td>1.000000</td>\n",
       "      <td>3.000000</td>\n",
       "      <td>38.000000</td>\n",
       "      <td>1.000000</td>\n",
       "      <td>0.000000</td>\n",
       "      <td>31.000000</td>\n",
       "    </tr>\n",
       "    <tr>\n",
       "      <th>max</th>\n",
       "      <td>891.000000</td>\n",
       "      <td>1.000000</td>\n",
       "      <td>3.000000</td>\n",
       "      <td>80.000000</td>\n",
       "      <td>8.000000</td>\n",
       "      <td>6.000000</td>\n",
       "      <td>512.329200</td>\n",
       "    </tr>\n",
       "  </tbody>\n",
       "</table>\n",
       "</div>"
      ],
      "text/plain": [
       "       PassengerId    Survived      Pclass         Age       SibSp  \\\n",
       "count   891.000000  891.000000  891.000000  714.000000  891.000000   \n",
       "mean    446.000000    0.383838    2.308642   29.699118    0.523008   \n",
       "std     257.353842    0.486592    0.836071   14.526497    1.102743   \n",
       "min       1.000000    0.000000    1.000000    0.420000    0.000000   \n",
       "25%     223.500000    0.000000    2.000000   20.125000    0.000000   \n",
       "50%     446.000000    0.000000    3.000000   28.000000    0.000000   \n",
       "75%     668.500000    1.000000    3.000000   38.000000    1.000000   \n",
       "max     891.000000    1.000000    3.000000   80.000000    8.000000   \n",
       "\n",
       "            Parch        Fare  \n",
       "count  891.000000  891.000000  \n",
       "mean     0.381594   32.204208  \n",
       "std      0.806057   49.693429  \n",
       "min      0.000000    0.000000  \n",
       "25%      0.000000    7.910400  \n",
       "50%      0.000000   14.454200  \n",
       "75%      0.000000   31.000000  \n",
       "max      6.000000  512.329200  "
      ]
     },
     "execution_count": 48,
     "metadata": {},
     "output_type": "execute_result"
    }
   ],
   "source": [
    "#データの統計量を確認\n",
    "df.describe()"
   ]
  },
  {
   "cell_type": "markdown",
   "metadata": {},
   "source": [
    "## 1.2 データ分析 "
   ]
  },
  {
   "cell_type": "code",
   "execution_count": 49,
   "metadata": {},
   "outputs": [
    {
     "data": {
      "text/html": [
       "<div>\n",
       "<style scoped>\n",
       "    .dataframe tbody tr th:only-of-type {\n",
       "        vertical-align: middle;\n",
       "    }\n",
       "\n",
       "    .dataframe tbody tr th {\n",
       "        vertical-align: top;\n",
       "    }\n",
       "\n",
       "    .dataframe thead th {\n",
       "        text-align: right;\n",
       "    }\n",
       "</style>\n",
       "<table border=\"1\" class=\"dataframe\">\n",
       "  <thead>\n",
       "    <tr style=\"text-align: right;\">\n",
       "      <th></th>\n",
       "      <th>Train_null</th>\n",
       "      <th>Test_null</th>\n",
       "    </tr>\n",
       "  </thead>\n",
       "  <tbody>\n",
       "    <tr>\n",
       "      <th>PassengerId</th>\n",
       "      <td>0</td>\n",
       "      <td>0.0</td>\n",
       "    </tr>\n",
       "    <tr>\n",
       "      <th>Survived</th>\n",
       "      <td>0</td>\n",
       "      <td>NaN</td>\n",
       "    </tr>\n",
       "    <tr>\n",
       "      <th>Pclass</th>\n",
       "      <td>0</td>\n",
       "      <td>0.0</td>\n",
       "    </tr>\n",
       "    <tr>\n",
       "      <th>Name</th>\n",
       "      <td>0</td>\n",
       "      <td>0.0</td>\n",
       "    </tr>\n",
       "    <tr>\n",
       "      <th>Sex</th>\n",
       "      <td>0</td>\n",
       "      <td>0.0</td>\n",
       "    </tr>\n",
       "    <tr>\n",
       "      <th>Age</th>\n",
       "      <td>177</td>\n",
       "      <td>86.0</td>\n",
       "    </tr>\n",
       "    <tr>\n",
       "      <th>SibSp</th>\n",
       "      <td>0</td>\n",
       "      <td>0.0</td>\n",
       "    </tr>\n",
       "    <tr>\n",
       "      <th>Parch</th>\n",
       "      <td>0</td>\n",
       "      <td>0.0</td>\n",
       "    </tr>\n",
       "    <tr>\n",
       "      <th>Ticket</th>\n",
       "      <td>0</td>\n",
       "      <td>0.0</td>\n",
       "    </tr>\n",
       "    <tr>\n",
       "      <th>Fare</th>\n",
       "      <td>0</td>\n",
       "      <td>1.0</td>\n",
       "    </tr>\n",
       "    <tr>\n",
       "      <th>Cabin</th>\n",
       "      <td>687</td>\n",
       "      <td>327.0</td>\n",
       "    </tr>\n",
       "    <tr>\n",
       "      <th>Embarked</th>\n",
       "      <td>2</td>\n",
       "      <td>0.0</td>\n",
       "    </tr>\n",
       "  </tbody>\n",
       "</table>\n",
       "</div>"
      ],
      "text/plain": [
       "             Train_null  Test_null\n",
       "PassengerId           0        0.0\n",
       "Survived              0        NaN\n",
       "Pclass                0        0.0\n",
       "Name                  0        0.0\n",
       "Sex                   0        0.0\n",
       "Age                 177       86.0\n",
       "SibSp                 0        0.0\n",
       "Parch                 0        0.0\n",
       "Ticket                0        0.0\n",
       "Fare                  0        1.0\n",
       "Cabin               687      327.0\n",
       "Embarked              2        0.0"
      ]
     },
     "execution_count": 49,
     "metadata": {},
     "output_type": "execute_result"
    }
   ],
   "source": [
    "temp_merge = pd.concat([df.isnull().sum(),df_test.isnull().sum()],axis=1,sort=False)\n",
    "temp_merge.columns = ['Train_null','Test_null']\n",
    "temp_merge"
   ]
  },
  {
   "cell_type": "markdown",
   "metadata": {},
   "source": [
    "Age,Cabinは、欠損値が多いので、今回は、補完しない。<br>\n",
    "適当な補完をすれば、それが起因して予測精度が下がってしまう可能性。<br>\n",
    "Embarkedは、補完する"
   ]
  },
  {
   "cell_type": "markdown",
   "metadata": {},
   "source": [
    "### 1.2.1 生存割合の確認"
   ]
  },
  {
   "cell_type": "code",
   "execution_count": 50,
   "metadata": {},
   "outputs": [
    {
     "data": {
      "image/png": "[encoded data removed]",
      "text/plain": [
       "<Figure size 720x360 with 2 Axes>"
      ]
     },
     "metadata": {
      "needs_background": "light"
     },
     "output_type": "display_data"
    }
   ],
   "source": [
    "f,ax=plt.subplots(1,2,figsize=(10,5))\n",
    "df['Survived'].value_counts().plot.pie(explode=[0,0.1],autopct='%1.1f%%',ax=ax[0],shadow=True)\n",
    "ax[0].set_title('Survived')\n",
    "ax[0].set_ylabel('')\n",
    "sns.countplot('Survived',data=df,ax=ax[1])\n",
    "ax[1].set_title('Survived')\n",
    "plt.show()"
   ]
  },
  {
   "cell_type": "markdown",
   "metadata": {},
   "source": [
    "死亡者の割合の方が多い61.6%"
   ]
  },
  {
   "cell_type": "markdown",
   "metadata": {},
   "source": [
    "### 1.2.2 Pclass"
   ]
  },
  {
   "cell_type": "code",
   "execution_count": 51,
   "metadata": {},
   "outputs": [
    {
     "data": {
      "image/png": "[encoded data removed]",
      "text/plain": [
       "<Figure size 720x360 with 2 Axes>"
      ]
     },
     "metadata": {
      "needs_background": "light"
     },
     "output_type": "display_data"
    }
   ],
   "source": [
    "f,ax=plt.subplots(1,2,figsize=(10,5))\n",
    "df['Pclass'].value_counts().plot.bar(color=['#CD7F32','#FFDF00','#D3D3D3'],ax=ax[0])\n",
    "ax[0].set_title('Number of Passengers By Pclass')\n",
    "ax[0].set_ylabel('Count')\n",
    "ax[0].set_xlabel('Pclass')\n",
    "\n",
    "sns.countplot('Pclass',hue='Survived',data=df,ax=ax[1])\n",
    "ax[1].set_title('Pclass:Survived vs Dead')\n",
    "plt.show()"
   ]
  },
  {
   "cell_type": "markdown",
   "metadata": {},
   "source": [
    "Pclass=3(一番グレードが低い）の生存率が非常に高いことがわかる。<br>\n",
    "一方、Pclass=1では、生存率が高くなっている。<br>\n",
    "これらの情報は、有効に使用できる。"
   ]
  },
  {
   "cell_type": "markdown",
   "metadata": {},
   "source": [
    "### 1.2.3 Age"
   ]
  },
  {
   "cell_type": "code",
   "execution_count": 52,
   "metadata": {},
   "outputs": [
    {
     "data": {
      "image/png": "[encoded data removed]",
      "text/plain": [
       "<Figure size 720x360 with 2 Axes>"
      ]
     },
     "metadata": {
      "needs_background": "light"
     },
     "output_type": "display_data"
    }
   ],
   "source": [
    "f,ax=plt.subplots(1,2,figsize=(10,5))\n",
    "sns.violinplot(\"Pclass\",\"Age\", hue=\"Survived\", data=df,split=True,ax=ax[0])\n",
    "ax[0].set_title('Pclass and Age vs Survived')\n",
    "ax[0].set_yticks(range(0,110,10))\n",
    "\n",
    "sns.violinplot(\"Sex\",\"Age\", hue=\"Survived\", data=df,split=True,ax=ax[1])\n",
    "ax[1].set_title('Sex and Age vs Survived')\n",
    "ax[1].set_yticks(range(0,110,10))\n",
    "plt.show()"
   ]
  },
  {
   "cell_type": "markdown",
   "metadata": {},
   "source": [
    "右図の男児に注目。<br>\n",
    "男性かつ、10才以下では、生存率が高くなっていることがわかる。<br>\n",
    "一方、男性かつ、高齢の方は、死亡率が高い。<br>\n",
    "また、女性かつ高齢の方で、生存率が高いのが面白い。"
   ]
  },
  {
   "cell_type": "markdown",
   "metadata": {},
   "source": [
    "### 1.2.3 SibSp"
   ]
  },
  {
   "cell_type": "code",
   "execution_count": 53,
   "metadata": {},
   "outputs": [
    {
     "data": {
      "image/png": "[encoded data removed]",
      "text/plain": [
       "<Figure size 720x360 with 2 Axes>"
      ]
     },
     "metadata": {
      "needs_background": "light"
     },
     "output_type": "display_data"
    }
   ],
   "source": [
    "#乗っていた兄弟・姉妹・配偶者の数\n",
    "f,ax=plt.subplots(1,2,figsize=(10,5))\n",
    "df['SibSp'].value_counts().plot.bar(color=['#CD7F32','#FFDF00','#D3D3D3'],ax=ax[0])\n",
    "ax[0].set_title('Number of Passengers By SibSp')\n",
    "ax[0].set_ylabel('Count')\n",
    "ax[0].set_xlabel('SibSp')\n",
    "\n",
    "sns.countplot('SibSp',hue='Survived',data=df,ax=ax[1])\n",
    "ax[1].set_title('SibSp:Survived vs Dead')\n",
    "plt.show()"
   ]
  },
  {
   "cell_type": "markdown",
   "metadata": {},
   "source": [
    "SibSpが大きいほど、生存率は小さくなっている。<br>\n",
    "（SibSp=1の時に生存者の方が多くなっているのが不思議）<br>\n",
    "SibSp=0の時は、生存率が小さい"
   ]
  },
  {
   "cell_type": "markdown",
   "metadata": {},
   "source": [
    "### 1.2.4 Parch"
   ]
  },
  {
   "cell_type": "code",
   "execution_count": 54,
   "metadata": {},
   "outputs": [
    {
     "data": {
      "image/png": "[encoded data removed]",
      "text/plain": [
       "<Figure size 720x360 with 2 Axes>"
      ]
     },
     "metadata": {
      "needs_background": "light"
     },
     "output_type": "display_data"
    }
   ],
   "source": [
    "#乗っていた親・子供の数\n",
    "f,ax=plt.subplots(1,2,figsize=(10,5))\n",
    "df['Parch'].value_counts().plot.bar(color=['#CD7F32','#FFDF00','#D3D3D3'],ax=ax[0])\n",
    "ax[0].set_title('Number of Passengers By Parch')\n",
    "ax[0].set_ylabel('Count')\n",
    "ax[0].set_xlabel('Parch')\n",
    "\n",
    "sns.countplot('Parch',hue='Survived',data=df,ax=ax[1])\n",
    "ax[1].set_title('Parch:Survived vs Dead')\n",
    "plt.show()"
   ]
  },
  {
   "cell_type": "markdown",
   "metadata": {},
   "source": [
    "Parchが大きいほど、生存率が小さくなっている。<br>\n",
    "SibSpと同様に、Parch=1,2の時に生存率が多くなっているのが不思議<br>\n",
    "小さい子供がいると生存率が大きくなるのか。<br>\n",
    "また、Parch=0の時は、生存率が小さい"
   ]
  },
  {
   "cell_type": "markdown",
   "metadata": {},
   "source": [
    "### 1.2.5 Fare"
   ]
  },
  {
   "cell_type": "code",
   "execution_count": 55,
   "metadata": {},
   "outputs": [],
   "source": [
    "def fare_bin(df,nbin):\n",
    "    df.loc[:, 'Fare_bin'] = pd.qcut(df.Fare, nbin,labels=False)\n",
    "    #print(df.groupby('Fare_bin')['Survived'].mean())\n",
    "    plt.scatter(df.groupby('Fare_bin')['Survived'].mean().index,df.groupby('Fare_bin')['Survived'].mean())\n",
    "    plt.xlabel('Fare_bin')\n",
    "    plt.ylabel('Survived rate')\n",
    "    plt.title('Fare_bin vs Survived rate')"
   ]
  },
  {
   "cell_type": "code",
   "execution_count": 56,
   "metadata": {},
   "outputs": [
    {
     "data": {
      "image/png": "[encoded data removed]",
      "text/plain": [
       "<Figure size 432x288 with 1 Axes>"
      ]
     },
     "metadata": {
      "needs_background": "light"
     },
     "output_type": "display_data"
    }
   ],
   "source": [
    "nbin=25\n",
    "fare_bin(df,nbin)"
   ]
  },
  {
   "cell_type": "code",
   "execution_count": 57,
   "metadata": {},
   "outputs": [
    {
     "data": {
      "text/plain": [
       "Text(0.5, 1.0, 'Fare_bin vs Survived rate')"
      ]
     },
     "execution_count": 57,
     "metadata": {},
     "output_type": "execute_result"
    },
    {
     "data": {
      "image/png": "[encoded data removed]",
      "text/plain": [
       "<Figure size 1080x720 with 2 Axes>"
      ]
     },
     "metadata": {
      "needs_background": "light"
     },
     "output_type": "display_data"
    }
   ],
   "source": [
    "fig = plt.figure(figsize=(15,10))\n",
    "ax = fig.add_subplot(221)\n",
    "plt.hist(df['Fare'],bins=100)\n",
    "plt.xlabel('Fare')\n",
    "plt.ylabel('Frequency')\n",
    "plt.title('Frequency by Fare')\n",
    "\n",
    "ax = fig.add_subplot(222)\n",
    "df.loc[:, 'Fare_bin'] = pd.qcut(df.Fare, 10,labels=False)\n",
    "plt.scatter(df.groupby('Fare_bin')['Survived'].mean().index,df.groupby('Fare_bin')['Survived'].mean())\n",
    "plt.xlabel('Fare_bin')\n",
    "plt.ylabel('Survived rate')\n",
    "plt.title('Fare_bin vs Survived rate')"
   ]
  },
  {
   "cell_type": "code",
   "execution_count": 58,
   "metadata": {},
   "outputs": [
    {
     "data": {
      "text/html": [
       "<div>\n",
       "<style scoped>\n",
       "    .dataframe tbody tr th:only-of-type {\n",
       "        vertical-align: middle;\n",
       "    }\n",
       "\n",
       "    .dataframe tbody tr th {\n",
       "        vertical-align: top;\n",
       "    }\n",
       "\n",
       "    .dataframe thead th {\n",
       "        text-align: right;\n",
       "    }\n",
       "</style>\n",
       "<table border=\"1\" class=\"dataframe\">\n",
       "  <thead>\n",
       "    <tr style=\"text-align: right;\">\n",
       "      <th></th>\n",
       "      <th>mean</th>\n",
       "      <th>count</th>\n",
       "    </tr>\n",
       "    <tr>\n",
       "      <th>Fare_bin</th>\n",
       "      <th></th>\n",
       "      <th></th>\n",
       "    </tr>\n",
       "  </thead>\n",
       "  <tbody>\n",
       "    <tr>\n",
       "      <th>(-0.001, 7.55]</th>\n",
       "      <td>0.141304</td>\n",
       "      <td>92</td>\n",
       "    </tr>\n",
       "    <tr>\n",
       "      <th>(7.55, 7.854]</th>\n",
       "      <td>0.298851</td>\n",
       "      <td>87</td>\n",
       "    </tr>\n",
       "    <tr>\n",
       "      <th>(7.854, 8.05]</th>\n",
       "      <td>0.179245</td>\n",
       "      <td>106</td>\n",
       "    </tr>\n",
       "    <tr>\n",
       "      <th>(8.05, 10.5]</th>\n",
       "      <td>0.230769</td>\n",
       "      <td>78</td>\n",
       "    </tr>\n",
       "    <tr>\n",
       "      <th>(10.5, 14.454]</th>\n",
       "      <td>0.428571</td>\n",
       "      <td>84</td>\n",
       "    </tr>\n",
       "    <tr>\n",
       "      <th>(14.454, 21.679]</th>\n",
       "      <td>0.420455</td>\n",
       "      <td>88</td>\n",
       "    </tr>\n",
       "    <tr>\n",
       "      <th>(21.679, 27.0]</th>\n",
       "      <td>0.516854</td>\n",
       "      <td>89</td>\n",
       "    </tr>\n",
       "    <tr>\n",
       "      <th>(27.0, 39.688]</th>\n",
       "      <td>0.373626</td>\n",
       "      <td>91</td>\n",
       "    </tr>\n",
       "    <tr>\n",
       "      <th>(39.688, 77.958]</th>\n",
       "      <td>0.528090</td>\n",
       "      <td>89</td>\n",
       "    </tr>\n",
       "    <tr>\n",
       "      <th>(77.958, 512.329]</th>\n",
       "      <td>0.758621</td>\n",
       "      <td>87</td>\n",
       "    </tr>\n",
       "  </tbody>\n",
       "</table>\n",
       "</div>"
      ],
      "text/plain": [
       "                       mean  count\n",
       "Fare_bin                          \n",
       "(-0.001, 7.55]     0.141304     92\n",
       "(7.55, 7.854]      0.298851     87\n",
       "(7.854, 8.05]      0.179245    106\n",
       "(8.05, 10.5]       0.230769     78\n",
       "(10.5, 14.454]     0.428571     84\n",
       "(14.454, 21.679]   0.420455     88\n",
       "(21.679, 27.0]     0.516854     89\n",
       "(27.0, 39.688]     0.373626     91\n",
       "(39.688, 77.958]   0.528090     89\n",
       "(77.958, 512.329]  0.758621     87"
      ]
     },
     "execution_count": 58,
     "metadata": {},
     "output_type": "execute_result"
    }
   ],
   "source": [
    "df.loc[:, 'Fare_bin'] = pd.qcut(df.Fare, 10,)\n",
    "df.groupby('Fare_bin')['Survived'].agg(['mean','count'])"
   ]
  },
  {
   "cell_type": "code",
   "execution_count": 59,
   "metadata": {},
   "outputs": [],
   "source": [
    "del df['Fare_bin']"
   ]
  },
  {
   "cell_type": "markdown",
   "metadata": {},
   "source": [
    "やはり、乗船料金が多い人（お金持ち）ほど生存率が高い。\n",
    "正の相関は強そう。\n",
    "しかし、乗車料が高い人は、それほど多くない"
   ]
  },
  {
   "cell_type": "markdown",
   "metadata": {},
   "source": [
    "### 1.2.6 変数同士のヒートマップ"
   ]
  },
  {
   "cell_type": "code",
   "execution_count": 60,
   "metadata": {},
   "outputs": [
    {
     "data": {
      "image/png": "[encoded data removed]",
      "text/plain": [
       "<Figure size 720x576 with 2 Axes>"
      ]
     },
     "metadata": {
      "needs_background": "light"
     },
     "output_type": "display_data"
    }
   ],
   "source": [
    "fig = plt.figure(figsize=(15,15))\n",
    "sns.heatmap(df.corr(),annot=True,cmap='bwr',linewidths=0.2) \n",
    "fig=plt.gcf()\n",
    "fig.set_size_inches(10,8)\n",
    "plt.show()"
   ]
  },
  {
   "cell_type": "markdown",
   "metadata": {},
   "source": [
    "正の相関 : <br>\n",
    "SibSp & Parch:<br>\n",
    "Fare & Survive: お金持ちほど、生存率が高い<br><br>\n",
    "負の相関 : <br>\n",
    "Pclass & Fare : チケットのグレードが高ければ、料金は、高くなる。<br>\n",
    "Pclass & Survived:お金持ちほど、生存率が高い<br>\n",
    "Age & Survived:高齢ほど、死亡率が高い<br>\n",
    "SibSp & Age:子供がいる方は、年齢が上である可能性が高い？<br>"
   ]
  },
  {
   "cell_type": "markdown",
   "metadata": {},
   "source": [
    "## 1.3データの前処理"
   ]
  },
  {
   "cell_type": "markdown",
   "metadata": {},
   "source": [
    "### 1.3.1 欠損値の処理\n",
    "欠損値がある特徴量<br>\n",
    "Age, Cabin, Fare, Embarked<br><br>\n",
    "Ageは２割程度,Cabinは８割程度欠損ちが含まれている。<br>\n",
    "これらを適当に補完すると、精度が落ちる可能性があるので、今回は、難しく考えず補完しない方向で行う。<br>"
   ]
  },
  {
   "cell_type": "markdown",
   "metadata": {},
   "source": [
    "### 1.3.1.1 Fare 補完"
   ]
  },
  {
   "cell_type": "code",
   "execution_count": 61,
   "metadata": {},
   "outputs": [
    {
     "name": "stdout",
     "output_type": "stream",
     "text": [
      "All average: 33.29547928134557\n"
     ]
    },
    {
     "data": {
      "text/plain": [
       "Pclass\n",
       "1    87.508992\n",
       "2    21.179196\n",
       "3    13.302889\n",
       "Name: Fare, dtype: float64"
      ]
     },
     "execution_count": 61,
     "metadata": {},
     "output_type": "execute_result"
    }
   ],
   "source": [
    "print('All average:',pd.concat([df['Fare'], df_test['Fare']]).mean())\n",
    "temp_merge = pd.concat([df[['Pclass','Fare']],df_test[['Pclass','Fare']]])\n",
    "temp_merge.groupby('Pclass')['Fare'].mean()"
   ]
  },
  {
   "cell_type": "markdown",
   "metadata": {},
   "source": [
    "平均値とPclassごとの平均は結構違う<br>\n",
    "よって、FareはPclassと相関が強いので、Pclass中の平均値をしようすることにする"
   ]
  },
  {
   "cell_type": "code",
   "execution_count": 62,
   "metadata": {},
   "outputs": [],
   "source": [
    "groupby_pclass_fare = temp_merge.groupby('Pclass').mean()\n",
    "df['Fare'].loc[(df['Fare'].isnull())] = groupby_pclass_fare.loc[df['Pclass'].loc[(df['Fare'].isnull())]]['Fare']\n",
    "df_test['Fare'].loc[(df_test['Fare'].isnull())] = groupby_pclass_fare.loc[df_test['Pclass'].loc[(df_test['Fare'].isnull())]]['Fare'].values"
   ]
  },
  {
   "cell_type": "markdown",
   "metadata": {},
   "source": [
    "### 1.3.1.2 Embarked\n",
    "Sが最も多い。補完は、Sとする。"
   ]
  },
  {
   "cell_type": "code",
   "execution_count": 63,
   "metadata": {},
   "outputs": [
    {
     "data": {
      "image/png": "[encoded data removed]",
      "text/plain": [
       "<Figure size 432x288 with 1 Axes>"
      ]
     },
     "metadata": {
      "needs_background": "light"
     },
     "output_type": "display_data"
    }
   ],
   "source": [
    "sns.countplot('Embarked',data=df)\n",
    "plt.title('Number of Passengers Boarded')\n",
    "plt.show()"
   ]
  },
  {
   "cell_type": "code",
   "execution_count": 64,
   "metadata": {},
   "outputs": [],
   "source": [
    "df['Embarked'].fillna('S', inplace=True)\n",
    "df_test['Embarked'].fillna('S', inplace=True)"
   ]
  },
  {
   "cell_type": "markdown",
   "metadata": {},
   "source": [
    "### 1.3.1.3 Cabin"
   ]
  },
  {
   "cell_type": "code",
   "execution_count": 65,
   "metadata": {},
   "outputs": [],
   "source": [
    "df['IsCabin'] = df['Cabin'].isnull()\n",
    "df.groupby('IsCabin')['Survived'].mean()\n",
    "del df['IsCabin']"
   ]
  },
  {
   "cell_type": "markdown",
   "metadata": {},
   "source": [
    "キャビンがわかる方は、かなり生存率が高いことがわかります。この指標は、使用できるかしれません。"
   ]
  },
  {
   "cell_type": "code",
   "execution_count": 66,
   "metadata": {},
   "outputs": [
    {
     "data": {
      "text/html": [
       "<div>\n",
       "<style scoped>\n",
       "    .dataframe tbody tr th:only-of-type {\n",
       "        vertical-align: middle;\n",
       "    }\n",
       "\n",
       "    .dataframe tbody tr th {\n",
       "        vertical-align: top;\n",
       "    }\n",
       "\n",
       "    .dataframe thead th {\n",
       "        text-align: right;\n",
       "    }\n",
       "</style>\n",
       "<table border=\"1\" class=\"dataframe\">\n",
       "  <thead>\n",
       "    <tr style=\"text-align: right;\">\n",
       "      <th></th>\n",
       "      <th>mean</th>\n",
       "      <th>count</th>\n",
       "    </tr>\n",
       "    <tr>\n",
       "      <th>Cabin</th>\n",
       "      <th></th>\n",
       "      <th></th>\n",
       "    </tr>\n",
       "  </thead>\n",
       "  <tbody>\n",
       "    <tr>\n",
       "      <th>A</th>\n",
       "      <td>0.466667</td>\n",
       "      <td>15</td>\n",
       "    </tr>\n",
       "    <tr>\n",
       "      <th>B</th>\n",
       "      <td>0.744681</td>\n",
       "      <td>47</td>\n",
       "    </tr>\n",
       "    <tr>\n",
       "      <th>C</th>\n",
       "      <td>0.593220</td>\n",
       "      <td>59</td>\n",
       "    </tr>\n",
       "    <tr>\n",
       "      <th>D</th>\n",
       "      <td>0.757576</td>\n",
       "      <td>33</td>\n",
       "    </tr>\n",
       "    <tr>\n",
       "      <th>E</th>\n",
       "      <td>0.750000</td>\n",
       "      <td>32</td>\n",
       "    </tr>\n",
       "    <tr>\n",
       "      <th>F</th>\n",
       "      <td>0.615385</td>\n",
       "      <td>13</td>\n",
       "    </tr>\n",
       "    <tr>\n",
       "      <th>G</th>\n",
       "      <td>0.500000</td>\n",
       "      <td>4</td>\n",
       "    </tr>\n",
       "    <tr>\n",
       "      <th>T</th>\n",
       "      <td>0.000000</td>\n",
       "      <td>1</td>\n",
       "    </tr>\n",
       "    <tr>\n",
       "      <th>n</th>\n",
       "      <td>0.299854</td>\n",
       "      <td>687</td>\n",
       "    </tr>\n",
       "  </tbody>\n",
       "</table>\n",
       "</div>"
      ],
      "text/plain": [
       "           mean  count\n",
       "Cabin                 \n",
       "A      0.466667     15\n",
       "B      0.744681     47\n",
       "C      0.593220     59\n",
       "D      0.757576     33\n",
       "E      0.750000     32\n",
       "F      0.615385     13\n",
       "G      0.500000      4\n",
       "T      0.000000      1\n",
       "n      0.299854    687"
      ]
     },
     "execution_count": 66,
     "metadata": {},
     "output_type": "execute_result"
    }
   ],
   "source": [
    "df['Survived'].groupby(df['Cabin'].map(lambda x: str(x)[0])).agg(['mean','count'])"
   ]
  },
  {
   "cell_type": "markdown",
   "metadata": {},
   "source": [
    "今回は、キャビンの頭文字を使用してダミー変数を作成する"
   ]
  },
  {
   "cell_type": "code",
   "execution_count": 67,
   "metadata": {},
   "outputs": [
    {
     "data": {
      "text/html": [
       "<div>\n",
       "<style scoped>\n",
       "    .dataframe tbody tr th:only-of-type {\n",
       "        vertical-align: middle;\n",
       "    }\n",
       "\n",
       "    .dataframe tbody tr th {\n",
       "        vertical-align: top;\n",
       "    }\n",
       "\n",
       "    .dataframe thead th {\n",
       "        text-align: right;\n",
       "    }\n",
       "</style>\n",
       "<table border=\"1\" class=\"dataframe\">\n",
       "  <thead>\n",
       "    <tr style=\"text-align: right;\">\n",
       "      <th></th>\n",
       "      <th>count</th>\n",
       "    </tr>\n",
       "    <tr>\n",
       "      <th>Cabin</th>\n",
       "      <th></th>\n",
       "    </tr>\n",
       "  </thead>\n",
       "  <tbody>\n",
       "    <tr>\n",
       "      <th>A</th>\n",
       "      <td>7</td>\n",
       "    </tr>\n",
       "    <tr>\n",
       "      <th>B</th>\n",
       "      <td>18</td>\n",
       "    </tr>\n",
       "    <tr>\n",
       "      <th>C</th>\n",
       "      <td>35</td>\n",
       "    </tr>\n",
       "    <tr>\n",
       "      <th>D</th>\n",
       "      <td>13</td>\n",
       "    </tr>\n",
       "    <tr>\n",
       "      <th>E</th>\n",
       "      <td>9</td>\n",
       "    </tr>\n",
       "    <tr>\n",
       "      <th>F</th>\n",
       "      <td>8</td>\n",
       "    </tr>\n",
       "    <tr>\n",
       "      <th>G</th>\n",
       "      <td>1</td>\n",
       "    </tr>\n",
       "    <tr>\n",
       "      <th>n</th>\n",
       "      <td>327</td>\n",
       "    </tr>\n",
       "  </tbody>\n",
       "</table>\n",
       "</div>"
      ],
      "text/plain": [
       "       count\n",
       "Cabin       \n",
       "A          7\n",
       "B         18\n",
       "C         35\n",
       "D         13\n",
       "E          9\n",
       "F          8\n",
       "G          1\n",
       "n        327"
      ]
     },
     "execution_count": 67,
     "metadata": {},
     "output_type": "execute_result"
    }
   ],
   "source": [
    "df_test.groupby(df_test['Cabin'].map(lambda x: str(x)[0])).agg(['count'])['PassengerId']"
   ]
  },
  {
   "cell_type": "code",
   "execution_count": 68,
   "metadata": {},
   "outputs": [
    {
     "data": {
      "text/plain": [
       "['A', 'F', 'G', 'T']"
      ]
     },
     "execution_count": 68,
     "metadata": {},
     "output_type": "execute_result"
    }
   ],
   "source": [
    "less_than_10_list = list(df.groupby(df['Cabin'].map(lambda x: str(x)[0])).count()['PassengerId'][df.groupby(df['Cabin'].map(lambda x: str(x)[0])).count()['PassengerId']<= 15].index)\n",
    "less_than_10_list\n",
    "#１０以下の出現の変数は、使用しない　＞＞　Othersにまとめる"
   ]
  },
  {
   "cell_type": "code",
   "execution_count": 69,
   "metadata": {},
   "outputs": [],
   "source": [
    "def make_cabin_group(df,less_than_10_list):\n",
    "    l = []\n",
    "    df['Cabin'].fillna('None',inplace=True)\n",
    "    \n",
    "    df['Cabin_Initial'] = df['Cabin'].map(lambda x: str(x)[0])\n",
    "    for i in less_than_10_list:\n",
    "        df['Cabin_Initial'] = df['Cabin_Initial'].replace(i,'Others',regex=True)\n",
    "        \n",
    "    df['Cabin_Initial'] = df['Cabin_Initial'].replace('n','None',regex=True)\n",
    "    df['Cabin_Initial'] = df['Cabin_Initial'].map(lambda x:str(x))\n",
    "    \n",
    "    try:\n",
    "        print(df['Survived'].groupby(df['Cabin_Initial'].map(lambda x: str(x)[0])).agg(['mean','count']))\n",
    "    except:\n",
    "        print(df.groupby('Cabin_Initial')['PassengerId'].count())\n",
    "    return df"
   ]
  },
  {
   "cell_type": "code",
   "execution_count": 70,
   "metadata": {},
   "outputs": [
    {
     "name": "stdout",
     "output_type": "stream",
     "text": [
      "                   mean  count\n",
      "Cabin_Initial                 \n",
      "B              0.744681     47\n",
      "C              0.593220     59\n",
      "D              0.757576     33\n",
      "E              0.750000     32\n",
      "N              0.299854    687\n",
      "O              0.515152     33\n",
      "Cabin_Initial\n",
      "B          18\n",
      "C          35\n",
      "D          13\n",
      "E           9\n",
      "N         327\n",
      "Others     16\n",
      "Name: PassengerId, dtype: int64\n"
     ]
    }
   ],
   "source": [
    "df = make_cabin_group(df,less_than_10_list)\n",
    "df_test = make_cabin_group(df_test,less_than_10_list)"
   ]
  },
  {
   "cell_type": "code",
   "execution_count": 71,
   "metadata": {},
   "outputs": [],
   "source": [
    "df.drop('Cabin', axis=1, inplace=True)\n",
    "df_test.drop('Cabin', axis=1, inplace=True)\n",
    "df.drop('Age', axis=1, inplace=True)\n",
    "df_test.drop('Age', axis=1, inplace=True)"
   ]
  },
  {
   "cell_type": "markdown",
   "metadata": {},
   "source": [
    "### 1.4 Name, Ticketをダミー変数に変化"
   ]
  },
  {
   "cell_type": "markdown",
   "metadata": {},
   "source": [
    "### Name"
   ]
  },
  {
   "cell_type": "code",
   "execution_count": 72,
   "metadata": {},
   "outputs": [],
   "source": [
    "#age_name = pd.concat([df[['Name','Survived']], df_test[['Name']]])\n",
    "import re\n",
    "def make_title(df):\n",
    "    title_l = []\n",
    "    mr = 'Mr.'\n",
    "    mr2 = 'Mr'\n",
    "    mrs = 'Mrs.'\n",
    "    mrs2 = 'Mrs'\n",
    "    miss = 'Miss.'\n",
    "    ms = 'Ms.'\n",
    "    master = 'Master.'\n",
    "    doc = 'Dr.'\n",
    "    rev = 'Rev.'\n",
    "    col = 'Col.'\n",
    "    \n",
    "    for j in df['Name']:\n",
    "        count = 0\n",
    "        #print(j.split())\n",
    "        for i in j.split():\n",
    "            i = re.sub(r'\\(\"','',i)\n",
    "            if not count == 0:\n",
    "                pass\n",
    "            else:\n",
    "                if (mr == i) or (mr2 == i):\n",
    "                    title_l.append(mr)\n",
    "                    count += 1\n",
    "                elif (mrs == i) or (mrs2 == i):\n",
    "                    title_l.append(mrs)\n",
    "                    count += 1\n",
    "                elif (miss == i) or (ms ==i):\n",
    "                    title_l.append(miss)\n",
    "                    count += 1\n",
    "                elif master == i:\n",
    "                    count += 1\n",
    "                    title_l.append(master)\n",
    "                '''\n",
    "                elif doc in i:\n",
    "                    count += 1\n",
    "                    title_l.append(doc)\n",
    "                elif rev in i:\n",
    "                    count += 1\n",
    "                    title_l.append(rev)\n",
    "                elif col in i:\n",
    "                    count += 1\n",
    "                    title_l.append(col)\n",
    "                '''\n",
    "        if not count:\n",
    "            #print(j)\n",
    "            title_l.append('Othersl')\n",
    "        \n",
    "    print(len(title_l))\n",
    "    print(df.shape)\n",
    "    df['Title'] = title_l\n",
    "    print(df.groupby('Title').count()['PassengerId'])\n",
    "    try:\n",
    "        print(df.groupby('Title').mean()['Survived'])\n",
    "    except:\n",
    "        pass"
   ]
  },
  {
   "cell_type": "code",
   "execution_count": 73,
   "metadata": {},
   "outputs": [
    {
     "name": "stdout",
     "output_type": "stream",
     "text": [
      "891\n",
      "(891, 11)\n",
      "Title\n",
      "Master.          40\n",
      "Miss.           183\n",
      "Mr.             518\n",
      "Mrs.            127\n",
      "Title-others     23\n",
      "Name: PassengerId, dtype: int64\n",
      "Title\n",
      "Master.         0.575000\n",
      "Miss.           0.699454\n",
      "Mr.             0.158301\n",
      "Mrs.            0.795276\n",
      "Title-others    0.347826\n",
      "Name: Survived, dtype: float64\n",
      "\n",
      "418\n",
      "(418, 10)\n",
      "Title\n",
      "Master.          21\n",
      "Miss.            79\n",
      "Mr.             240\n",
      "Mrs.             72\n",
      "Title-others      6\n",
      "Name: PassengerId, dtype: int64\n"
     ]
    }
   ],
   "source": [
    "make_title(df)\n",
    "print()\n",
    "make_title(df_test)"
   ]
  },
  {
   "cell_type": "markdown",
   "metadata": {},
   "source": [
    "ここに、年齢・結婚の有無などの情報も含まれているはず。と予想"
   ]
  },
  {
   "cell_type": "code",
   "execution_count": 74,
   "metadata": {},
   "outputs": [],
   "source": [
    "df.drop('Name', axis=1, inplace=True)\n",
    "df_test.drop('Name', axis=1, inplace=True)"
   ]
  },
  {
   "cell_type": "markdown",
   "metadata": {},
   "source": [
    "### Ticket"
   ]
  },
  {
   "cell_type": "markdown",
   "metadata": {},
   "source": [
    "Ticketの頭文字を抽出"
   ]
  },
  {
   "cell_type": "code",
   "execution_count": 75,
   "metadata": {},
   "outputs": [
    {
     "data": {
      "text/html": [
       "<div>\n",
       "<style scoped>\n",
       "    .dataframe tbody tr th:only-of-type {\n",
       "        vertical-align: middle;\n",
       "    }\n",
       "\n",
       "    .dataframe tbody tr th {\n",
       "        vertical-align: top;\n",
       "    }\n",
       "\n",
       "    .dataframe thead th {\n",
       "        text-align: right;\n",
       "    }\n",
       "</style>\n",
       "<table border=\"1\" class=\"dataframe\">\n",
       "  <thead>\n",
       "    <tr style=\"text-align: right;\">\n",
       "      <th></th>\n",
       "      <th>mean</th>\n",
       "      <th>count</th>\n",
       "    </tr>\n",
       "    <tr>\n",
       "      <th>Ticket</th>\n",
       "      <th></th>\n",
       "      <th></th>\n",
       "    </tr>\n",
       "  </thead>\n",
       "  <tbody>\n",
       "    <tr>\n",
       "      <th>1</th>\n",
       "      <td>0.630137</td>\n",
       "      <td>146</td>\n",
       "    </tr>\n",
       "    <tr>\n",
       "      <th>2</th>\n",
       "      <td>0.464481</td>\n",
       "      <td>183</td>\n",
       "    </tr>\n",
       "    <tr>\n",
       "      <th>3</th>\n",
       "      <td>0.239203</td>\n",
       "      <td>301</td>\n",
       "    </tr>\n",
       "    <tr>\n",
       "      <th>4</th>\n",
       "      <td>0.200000</td>\n",
       "      <td>10</td>\n",
       "    </tr>\n",
       "    <tr>\n",
       "      <th>5</th>\n",
       "      <td>0.000000</td>\n",
       "      <td>3</td>\n",
       "    </tr>\n",
       "    <tr>\n",
       "      <th>6</th>\n",
       "      <td>0.166667</td>\n",
       "      <td>6</td>\n",
       "    </tr>\n",
       "    <tr>\n",
       "      <th>7</th>\n",
       "      <td>0.111111</td>\n",
       "      <td>9</td>\n",
       "    </tr>\n",
       "    <tr>\n",
       "      <th>8</th>\n",
       "      <td>0.000000</td>\n",
       "      <td>2</td>\n",
       "    </tr>\n",
       "    <tr>\n",
       "      <th>9</th>\n",
       "      <td>1.000000</td>\n",
       "      <td>1</td>\n",
       "    </tr>\n",
       "    <tr>\n",
       "      <th>A</th>\n",
       "      <td>0.068966</td>\n",
       "      <td>29</td>\n",
       "    </tr>\n",
       "    <tr>\n",
       "      <th>C</th>\n",
       "      <td>0.340426</td>\n",
       "      <td>47</td>\n",
       "    </tr>\n",
       "    <tr>\n",
       "      <th>F</th>\n",
       "      <td>0.571429</td>\n",
       "      <td>7</td>\n",
       "    </tr>\n",
       "    <tr>\n",
       "      <th>L</th>\n",
       "      <td>0.250000</td>\n",
       "      <td>4</td>\n",
       "    </tr>\n",
       "    <tr>\n",
       "      <th>P</th>\n",
       "      <td>0.646154</td>\n",
       "      <td>65</td>\n",
       "    </tr>\n",
       "    <tr>\n",
       "      <th>S</th>\n",
       "      <td>0.323077</td>\n",
       "      <td>65</td>\n",
       "    </tr>\n",
       "    <tr>\n",
       "      <th>W</th>\n",
       "      <td>0.153846</td>\n",
       "      <td>13</td>\n",
       "    </tr>\n",
       "  </tbody>\n",
       "</table>\n",
       "</div>"
      ],
      "text/plain": [
       "            mean  count\n",
       "Ticket                 \n",
       "1       0.630137    146\n",
       "2       0.464481    183\n",
       "3       0.239203    301\n",
       "4       0.200000     10\n",
       "5       0.000000      3\n",
       "6       0.166667      6\n",
       "7       0.111111      9\n",
       "8       0.000000      2\n",
       "9       1.000000      1\n",
       "A       0.068966     29\n",
       "C       0.340426     47\n",
       "F       0.571429      7\n",
       "L       0.250000      4\n",
       "P       0.646154     65\n",
       "S       0.323077     65\n",
       "W       0.153846     13"
      ]
     },
     "execution_count": 75,
     "metadata": {},
     "output_type": "execute_result"
    }
   ],
   "source": [
    "df['Survived'].groupby(df['Ticket'].map(lambda x: str(x)[0])).agg(['mean','count'])"
   ]
  },
  {
   "cell_type": "markdown",
   "metadata": {},
   "source": [
    "チケットの種類（頭文字）に関しても、ある程度生死に関わっているような印象。この頭文字の情報を利用する<br>\n",
    "テストデータにない頭文字や、サンプル数が少ないチケットは、学習の阻害になったりするので、まとめてOthersにする。"
   ]
  },
  {
   "cell_type": "code",
   "execution_count": 76,
   "metadata": {},
   "outputs": [
    {
     "data": {
      "text/plain": [
       "['4', '5', '6', '7', '8', '9', 'F', 'L']"
      ]
     },
     "execution_count": 76,
     "metadata": {},
     "output_type": "execute_result"
    }
   ],
   "source": [
    "less_than_10_list = list(df.groupby(df['Ticket'].map(lambda x: str(x)[0])).count()['PassengerId'][df.groupby(df['Ticket'].map(lambda x: str(x)[0])).count()['PassengerId']<= 10].index)\n",
    "less_than_10_list"
   ]
  },
  {
   "cell_type": "code",
   "execution_count": 77,
   "metadata": {},
   "outputs": [
    {
     "data": {
      "text/plain": [
       "Ticket\n",
       "1     64\n",
       "2     95\n",
       "3    128\n",
       "4      1\n",
       "6      3\n",
       "7      4\n",
       "9      1\n",
       "A     13\n",
       "C     30\n",
       "F      6\n",
       "L      1\n",
       "P     33\n",
       "S     33\n",
       "W      6\n",
       "Name: PassengerId, dtype: int64"
      ]
     },
     "execution_count": 77,
     "metadata": {},
     "output_type": "execute_result"
    }
   ],
   "source": [
    "df_test.groupby(df_test['Ticket'].map(lambda x: str(x)[0])).count()['PassengerId']"
   ]
  },
  {
   "cell_type": "code",
   "execution_count": 78,
   "metadata": {},
   "outputs": [],
   "source": [
    "def make_ticket_dummy(df,less_than_10_list):\n",
    "    df['Ticket_ini'] = df['Ticket'].map(lambda x: str(x)[0])\n",
    "    for i in less_than_10_list:\n",
    "        df['Ticket_ini'] = df['Ticket_ini'].replace(i,'Others',regex=True)\n",
    "\n",
    "    df['Ticket_ini'] = df['Ticket_ini'].map(lambda x:str(x))\n",
    "        \n",
    "    #print(df['Ticket'].value_counts(dropna=False))\n",
    "    \n",
    "    return df"
   ]
  },
  {
   "cell_type": "code",
   "execution_count": 79,
   "metadata": {},
   "outputs": [],
   "source": [
    "df = make_ticket_dummy(df,less_than_10_list)\n",
    "df_test = make_ticket_dummy(df_test,less_than_10_list)"
   ]
  },
  {
   "cell_type": "markdown",
   "metadata": {},
   "source": [
    "#### 同じTicket番号をもつ人は、同乗者がいる\n",
    "配偶者・兄弟・子供・親・友人など\n",
    "この数が多いほど、生存確率が小さいと仮定した<br>\n",
    "参考）https://yolo-kiyoshi.com/2020/01/22/post-1588/"
   ]
  },
  {
   "cell_type": "code",
   "execution_count": 80,
   "metadata": {},
   "outputs": [
    {
     "data": {
      "text/plain": [
       "(array([713., 132.,  49.,  16.,   7.,   4.,   5.,   2.,   0.,   1.]),\n",
       " array([ 1.,  2.,  3.,  4.,  5.,  6.,  7.,  8.,  9., 10., 11.]),\n",
       " <a list of 10 Patch objects>)"
      ]
     },
     "execution_count": 80,
     "metadata": {},
     "output_type": "execute_result"
    },
    {
     "data": {
      "image/png": "[encoded data removed]",
      "text/plain": [
       "<Figure size 432x288 with 1 Axes>"
      ]
     },
     "metadata": {
      "needs_background": "light"
     },
     "output_type": "display_data"
    }
   ],
   "source": [
    "temp_all = pd.concat([df,df_test])\n",
    "plt.hist(temp_all['Ticket'].value_counts())"
   ]
  },
  {
   "cell_type": "code",
   "execution_count": 81,
   "metadata": {},
   "outputs": [
    {
     "data": {
      "text/html": [
       "<div>\n",
       "<style scoped>\n",
       "    .dataframe tbody tr th:only-of-type {\n",
       "        vertical-align: middle;\n",
       "    }\n",
       "\n",
       "    .dataframe tbody tr th {\n",
       "        vertical-align: top;\n",
       "    }\n",
       "\n",
       "    .dataframe thead th {\n",
       "        text-align: right;\n",
       "    }\n",
       "</style>\n",
       "<table border=\"1\" class=\"dataframe\">\n",
       "  <thead>\n",
       "    <tr style=\"text-align: right;\">\n",
       "      <th></th>\n",
       "      <th>mean</th>\n",
       "      <th>count</th>\n",
       "    </tr>\n",
       "    <tr>\n",
       "      <th>n_same_ticket</th>\n",
       "      <th></th>\n",
       "      <th></th>\n",
       "    </tr>\n",
       "  </thead>\n",
       "  <tbody>\n",
       "    <tr>\n",
       "      <th>1</th>\n",
       "      <td>0.270270</td>\n",
       "      <td>481</td>\n",
       "    </tr>\n",
       "    <tr>\n",
       "      <th>2</th>\n",
       "      <td>0.513812</td>\n",
       "      <td>181</td>\n",
       "    </tr>\n",
       "    <tr>\n",
       "      <th>3</th>\n",
       "      <td>0.653465</td>\n",
       "      <td>101</td>\n",
       "    </tr>\n",
       "    <tr>\n",
       "      <th>4</th>\n",
       "      <td>0.727273</td>\n",
       "      <td>44</td>\n",
       "    </tr>\n",
       "    <tr>\n",
       "      <th>5</th>\n",
       "      <td>0.333333</td>\n",
       "      <td>21</td>\n",
       "    </tr>\n",
       "    <tr>\n",
       "      <th>6</th>\n",
       "      <td>0.210526</td>\n",
       "      <td>19</td>\n",
       "    </tr>\n",
       "    <tr>\n",
       "      <th>7</th>\n",
       "      <td>0.208333</td>\n",
       "      <td>24</td>\n",
       "    </tr>\n",
       "    <tr>\n",
       "      <th>8</th>\n",
       "      <td>0.384615</td>\n",
       "      <td>13</td>\n",
       "    </tr>\n",
       "    <tr>\n",
       "      <th>11</th>\n",
       "      <td>0.000000</td>\n",
       "      <td>7</td>\n",
       "    </tr>\n",
       "  </tbody>\n",
       "</table>\n",
       "</div>"
      ],
      "text/plain": [
       "                   mean  count\n",
       "n_same_ticket                 \n",
       "1              0.270270    481\n",
       "2              0.513812    181\n",
       "3              0.653465    101\n",
       "4              0.727273     44\n",
       "5              0.333333     21\n",
       "6              0.210526     19\n",
       "7              0.208333     24\n",
       "8              0.384615     13\n",
       "11             0.000000      7"
      ]
     },
     "execution_count": 81,
     "metadata": {},
     "output_type": "execute_result"
    }
   ],
   "source": [
    "temp_all.loc[:, 'n_same_ticket'] = temp_all.groupby(['Ticket'])['PassengerId'].transform('count')\n",
    "\n",
    "df['n_same_ticket'] = temp_all.iloc[:tr_n, :]['n_same_ticket']\n",
    "df_test['n_same_ticket'] = temp_all.iloc[tr_n:, :]['n_same_ticket']\n",
    "\n",
    "df.groupby(['n_same_ticket'])['Survived'].agg(['mean','count'])"
   ]
  },
  {
   "cell_type": "markdown",
   "metadata": {},
   "source": [
    "なんとなく、関係があるような、ないような"
   ]
  },
  {
   "cell_type": "markdown",
   "metadata": {},
   "source": [
    "### 1.5 カテゴリカルデータの数値化"
   ]
  },
  {
   "cell_type": "markdown",
   "metadata": {},
   "source": [
    "### Sex\n",
    "male -> 0<br>\n",
    "female -> 1"
   ]
  },
  {
   "cell_type": "code",
   "execution_count": 82,
   "metadata": {},
   "outputs": [],
   "source": [
    "df.replace({'Sex': {'male': 0, 'female': 1}}, inplace=True)\n",
    "df_test.replace({'Sex': {'male': 0, 'female': 1}}, inplace=True)"
   ]
  },
  {
   "cell_type": "markdown",
   "metadata": {},
   "source": [
    "### Embarked, Ticke, Name(Title),Cabin_ini をone hot vector"
   ]
  },
  {
   "cell_type": "code",
   "execution_count": 83,
   "metadata": {},
   "outputs": [],
   "source": [
    "def get_onehot(df,df_test,column_name):\n",
    "    temp = pd.concat([df[column_name], df_test[column_name]])\n",
    "    \n",
    "    temp_ohe = pd.get_dummies(temp)\n",
    "    column_l = []\n",
    "    for i in temp_ohe.columns:\n",
    "        new_name = column_name+'_'+str(i)\n",
    "        column_l.append(new_name)\n",
    "    temp_ohe.columns = column_l\n",
    "    \n",
    "    temp_ohe_train = temp_ohe[:891].round().astype(int)\n",
    "    temp_ohe_test = temp_ohe[891:].round().astype(int)\n",
    "    '''\n",
    "    print(df.head())\n",
    "    print(df_test.head())\n",
    "    print(embarked_ohe_test)\n",
    "    '''\n",
    "    df = pd.concat([df, temp_ohe_train], axis=1)\n",
    "    df_test = pd.concat([df_test, temp_ohe_test], axis=1)\n",
    "    \n",
    "    df.drop(column_name, axis=1, inplace=True)\n",
    "    df_test.drop(column_name, axis=1, inplace=True)\n",
    "    \n",
    "    df = df.dropna()\n",
    "    df_test = df_test.dropna()\n",
    "    \n",
    "    #print(df.head())\n",
    "    return df,df_test"
   ]
  },
  {
   "cell_type": "code",
   "execution_count": 84,
   "metadata": {},
   "outputs": [
    {
     "name": "stdout",
     "output_type": "stream",
     "text": [
      "(891, 32)\n"
     ]
    },
    {
     "data": {
      "text/html": [
       "<div>\n",
       "<style scoped>\n",
       "    .dataframe tbody tr th:only-of-type {\n",
       "        vertical-align: middle;\n",
       "    }\n",
       "\n",
       "    .dataframe tbody tr th {\n",
       "        vertical-align: top;\n",
       "    }\n",
       "\n",
       "    .dataframe thead th {\n",
       "        text-align: right;\n",
       "    }\n",
       "</style>\n",
       "<table border=\"1\" class=\"dataframe\">\n",
       "  <thead>\n",
       "    <tr style=\"text-align: right;\">\n",
       "      <th></th>\n",
       "      <th>PassengerId</th>\n",
       "      <th>Survived</th>\n",
       "      <th>Pclass</th>\n",
       "      <th>Sex</th>\n",
       "      <th>SibSp</th>\n",
       "      <th>Parch</th>\n",
       "      <th>Ticket</th>\n",
       "      <th>Fare</th>\n",
       "      <th>n_same_ticket</th>\n",
       "      <th>Embarked_C</th>\n",
       "      <th>...</th>\n",
       "      <th>Title_Miss.</th>\n",
       "      <th>Title_Mr.</th>\n",
       "      <th>Title_Mrs.</th>\n",
       "      <th>Title_Title-others</th>\n",
       "      <th>Cabin_Initial_B</th>\n",
       "      <th>Cabin_Initial_C</th>\n",
       "      <th>Cabin_Initial_D</th>\n",
       "      <th>Cabin_Initial_E</th>\n",
       "      <th>Cabin_Initial_N</th>\n",
       "      <th>Cabin_Initial_Others</th>\n",
       "    </tr>\n",
       "  </thead>\n",
       "  <tbody>\n",
       "    <tr>\n",
       "      <th>0</th>\n",
       "      <td>1</td>\n",
       "      <td>0</td>\n",
       "      <td>3</td>\n",
       "      <td>0</td>\n",
       "      <td>1</td>\n",
       "      <td>0</td>\n",
       "      <td>A/5 21171</td>\n",
       "      <td>7.2500</td>\n",
       "      <td>1</td>\n",
       "      <td>0</td>\n",
       "      <td>...</td>\n",
       "      <td>0</td>\n",
       "      <td>1</td>\n",
       "      <td>0</td>\n",
       "      <td>0</td>\n",
       "      <td>0</td>\n",
       "      <td>0</td>\n",
       "      <td>0</td>\n",
       "      <td>0</td>\n",
       "      <td>1</td>\n",
       "      <td>0</td>\n",
       "    </tr>\n",
       "    <tr>\n",
       "      <th>1</th>\n",
       "      <td>2</td>\n",
       "      <td>1</td>\n",
       "      <td>1</td>\n",
       "      <td>1</td>\n",
       "      <td>1</td>\n",
       "      <td>0</td>\n",
       "      <td>PC 17599</td>\n",
       "      <td>71.2833</td>\n",
       "      <td>2</td>\n",
       "      <td>1</td>\n",
       "      <td>...</td>\n",
       "      <td>0</td>\n",
       "      <td>0</td>\n",
       "      <td>1</td>\n",
       "      <td>0</td>\n",
       "      <td>0</td>\n",
       "      <td>1</td>\n",
       "      <td>0</td>\n",
       "      <td>0</td>\n",
       "      <td>0</td>\n",
       "      <td>0</td>\n",
       "    </tr>\n",
       "    <tr>\n",
       "      <th>2</th>\n",
       "      <td>3</td>\n",
       "      <td>1</td>\n",
       "      <td>3</td>\n",
       "      <td>1</td>\n",
       "      <td>0</td>\n",
       "      <td>0</td>\n",
       "      <td>STON/O2. 3101282</td>\n",
       "      <td>7.9250</td>\n",
       "      <td>1</td>\n",
       "      <td>0</td>\n",
       "      <td>...</td>\n",
       "      <td>1</td>\n",
       "      <td>0</td>\n",
       "      <td>0</td>\n",
       "      <td>0</td>\n",
       "      <td>0</td>\n",
       "      <td>0</td>\n",
       "      <td>0</td>\n",
       "      <td>0</td>\n",
       "      <td>1</td>\n",
       "      <td>0</td>\n",
       "    </tr>\n",
       "    <tr>\n",
       "      <th>3</th>\n",
       "      <td>4</td>\n",
       "      <td>1</td>\n",
       "      <td>1</td>\n",
       "      <td>1</td>\n",
       "      <td>1</td>\n",
       "      <td>0</td>\n",
       "      <td>113803</td>\n",
       "      <td>53.1000</td>\n",
       "      <td>2</td>\n",
       "      <td>0</td>\n",
       "      <td>...</td>\n",
       "      <td>0</td>\n",
       "      <td>0</td>\n",
       "      <td>1</td>\n",
       "      <td>0</td>\n",
       "      <td>0</td>\n",
       "      <td>1</td>\n",
       "      <td>0</td>\n",
       "      <td>0</td>\n",
       "      <td>0</td>\n",
       "      <td>0</td>\n",
       "    </tr>\n",
       "    <tr>\n",
       "      <th>4</th>\n",
       "      <td>5</td>\n",
       "      <td>0</td>\n",
       "      <td>3</td>\n",
       "      <td>0</td>\n",
       "      <td>0</td>\n",
       "      <td>0</td>\n",
       "      <td>373450</td>\n",
       "      <td>8.0500</td>\n",
       "      <td>1</td>\n",
       "      <td>0</td>\n",
       "      <td>...</td>\n",
       "      <td>0</td>\n",
       "      <td>1</td>\n",
       "      <td>0</td>\n",
       "      <td>0</td>\n",
       "      <td>0</td>\n",
       "      <td>0</td>\n",
       "      <td>0</td>\n",
       "      <td>0</td>\n",
       "      <td>1</td>\n",
       "      <td>0</td>\n",
       "    </tr>\n",
       "  </tbody>\n",
       "</table>\n",
       "<p>5 rows × 32 columns</p>\n",
       "</div>"
      ],
      "text/plain": [
       "   PassengerId  Survived  Pclass  Sex  SibSp  Parch            Ticket  \\\n",
       "0            1         0       3    0      1      0         A/5 21171   \n",
       "1            2         1       1    1      1      0          PC 17599   \n",
       "2            3         1       3    1      0      0  STON/O2. 3101282   \n",
       "3            4         1       1    1      1      0            113803   \n",
       "4            5         0       3    0      0      0            373450   \n",
       "\n",
       "      Fare  n_same_ticket  Embarked_C  ...  Title_Miss.  Title_Mr.  \\\n",
       "0   7.2500              1           0  ...            0          1   \n",
       "1  71.2833              2           1  ...            0          0   \n",
       "2   7.9250              1           0  ...            1          0   \n",
       "3  53.1000              2           0  ...            0          0   \n",
       "4   8.0500              1           0  ...            0          1   \n",
       "\n",
       "   Title_Mrs.  Title_Title-others  Cabin_Initial_B  Cabin_Initial_C  \\\n",
       "0           0                   0                0                0   \n",
       "1           1                   0                0                1   \n",
       "2           0                   0                0                0   \n",
       "3           1                   0                0                1   \n",
       "4           0                   0                0                0   \n",
       "\n",
       "   Cabin_Initial_D  Cabin_Initial_E  Cabin_Initial_N  Cabin_Initial_Others  \n",
       "0                0                0                1                     0  \n",
       "1                0                0                0                     0  \n",
       "2                0                0                1                     0  \n",
       "3                0                0                0                     0  \n",
       "4                0                0                1                     0  \n",
       "\n",
       "[5 rows x 32 columns]"
      ]
     },
     "execution_count": 84,
     "metadata": {},
     "output_type": "execute_result"
    }
   ],
   "source": [
    "column_name_l = ['Embarked','Ticket_ini','Title','Cabin_Initial']\n",
    "for column_name in column_name_l:\n",
    "    df,df_test = get_onehot(df,df_test,column_name)\n",
    "    \n",
    "    \n",
    "print(df.shape)\n",
    "df.head()"
   ]
  },
  {
   "cell_type": "markdown",
   "metadata": {},
   "source": [
    "## 1.6 新しい変数の導入"
   ]
  },
  {
   "cell_type": "markdown",
   "metadata": {},
   "source": [
    "### 1.6.1 Family size\n",
    "みんな入れている変数"
   ]
  },
  {
   "cell_type": "code",
   "execution_count": 85,
   "metadata": {},
   "outputs": [],
   "source": [
    "df['FamilySize'] = df['SibSp'] + df['Parch'] + 1\n",
    "df_test['FamilySize'] = df_test['SibSp'] + df_test['Parch'] + 1"
   ]
  },
  {
   "cell_type": "code",
   "execution_count": 86,
   "metadata": {},
   "outputs": [
    {
     "data": {
      "image/png": "[encoded data removed]",
      "text/plain": [
       "<Figure size 864x432 with 2 Axes>"
      ]
     },
     "metadata": {
      "needs_background": "light"
     },
     "output_type": "display_data"
    }
   ],
   "source": [
    "#乗っていた親・子供の数\n",
    "f,ax=plt.subplots(1,2,figsize=(12,6))\n",
    "df['FamilySize'].value_counts().plot.bar(color=['#CD7F32','#FFDF00','#D3D3D3'],ax=ax[0])\n",
    "ax[0].set_title('Number of Passengers By FamilySize')\n",
    "ax[0].set_ylabel('Count')\n",
    "ax[0].set_xlabel('FamilySize')\n",
    "\n",
    "sns.countplot('FamilySize',hue='Survived',data=df,ax=ax[1])\n",
    "ax[1].set_title('FamilySize:Survived vs Dead')\n",
    "plt.show()"
   ]
  },
  {
   "cell_type": "markdown",
   "metadata": {},
   "source": [
    "Familysizeによってかなり生存率が異なるので、以下のように、分割した変数を導入する<br>\n",
    "Familysize = 1 Low(alone)<br>\n",
    "2 <= Familysize <= 4 High<br>\n",
    "4 < Familysize <=7 Low<br>\n",
    "7< Familysize Dead (Survived rate~0)<br>"
   ]
  },
  {
   "cell_type": "code",
   "execution_count": 87,
   "metadata": {},
   "outputs": [
    {
     "data": {
      "text/plain": [
       "Text(0.5, 1.0, 'FamilySIze vs Survived rate')"
      ]
     },
     "execution_count": 87,
     "metadata": {},
     "output_type": "execute_result"
    },
    {
     "data": {
      "image/png": "[encoded data removed]",
      "text/plain": [
       "<Figure size 432x288 with 1 Axes>"
      ]
     },
     "metadata": {
      "needs_background": "light"
     },
     "output_type": "display_data"
    }
   ],
   "source": [
    "plt.scatter(df.groupby('FamilySize').mean()['Survived'].index,df.groupby('FamilySize').mean()['Survived'])\n",
    "plt.xlabel('Familysize')\n",
    "plt.ylabel('Survived')\n",
    "plt.title('FamilySIze vs Survived rate')"
   ]
  },
  {
   "cell_type": "code",
   "execution_count": 88,
   "metadata": {},
   "outputs": [],
   "source": [
    "def make_family(df):\n",
    "\n",
    "    df['IsAlone'] = 0\n",
    "    df['IsAlone'].loc[df['FamilySize'] == 1] = 1\n",
    "    df['Family_size_small'] = 0\n",
    "    df['Family_size_small'].loc[(df['FamilySize'] > 1) & (df['FamilySize'] <= 4)] = 1\n",
    "    df['Family_size_mid'] = 0\n",
    "    df['Family_size_mid'].loc[(df['FamilySize'] > 4) & (df['FamilySize'] <= 7)] = 1\n",
    "    df['Family_size_big'] = 0\n",
    "    df['Family_size_big'].loc[(df['FamilySize'] > 7) ] = 1\n",
    "    del  df['SibSp'], df['Parch'], df['FamilySize']\n",
    "    \n",
    "    return df"
   ]
  },
  {
   "cell_type": "code",
   "execution_count": 89,
   "metadata": {},
   "outputs": [],
   "source": [
    "df = make_family(df)\n",
    "df_test = make_family(df_test)"
   ]
  },
  {
   "cell_type": "markdown",
   "metadata": {},
   "source": [
    "## 2.モデルの構築"
   ]
  },
  {
   "cell_type": "markdown",
   "metadata": {},
   "source": [
    "### 2.1 変数の整理"
   ]
  },
  {
   "cell_type": "code",
   "execution_count": 90,
   "metadata": {},
   "outputs": [
    {
     "name": "stdout",
     "output_type": "stream",
     "text": [
      "n = 891, d = 31\n"
     ]
    }
   ],
   "source": [
    "df_test = df_test.drop_duplicates()\n",
    "#X = df.iloc[:, 2:].values\n",
    "#y = df.iloc[:, 1].values\n",
    "drop_list = [\n",
    "    'PassengerId',\n",
    "             'Ticket',\n",
    "            ]\n",
    "\n",
    "target = 'Survived'\n",
    "X = df.drop(columns=drop_list+[target])\n",
    "y = df[target]\n",
    "\n",
    "print('n = {}, d = {}'.format(X.shape[0],X.shape[1]))\n",
    "#X_test = df_test.iloc[:, 1:].values\n",
    "X_test = df_test.drop(columns=drop_list)"
   ]
  },
  {
   "cell_type": "code",
   "execution_count": 91,
   "metadata": {},
   "outputs": [
    {
     "data": {
      "text/html": [
       "<div>\n",
       "<style scoped>\n",
       "    .dataframe tbody tr th:only-of-type {\n",
       "        vertical-align: middle;\n",
       "    }\n",
       "\n",
       "    .dataframe tbody tr th {\n",
       "        vertical-align: top;\n",
       "    }\n",
       "\n",
       "    .dataframe thead th {\n",
       "        text-align: right;\n",
       "    }\n",
       "</style>\n",
       "<table border=\"1\" class=\"dataframe\">\n",
       "  <thead>\n",
       "    <tr style=\"text-align: right;\">\n",
       "      <th></th>\n",
       "      <th>Pclass</th>\n",
       "      <th>Sex</th>\n",
       "      <th>Fare</th>\n",
       "      <th>n_same_ticket</th>\n",
       "      <th>Embarked_C</th>\n",
       "      <th>Embarked_Q</th>\n",
       "      <th>Embarked_S</th>\n",
       "      <th>Ticket_ini_1</th>\n",
       "      <th>Ticket_ini_2</th>\n",
       "      <th>Ticket_ini_3</th>\n",
       "      <th>...</th>\n",
       "      <th>Cabin_Initial_B</th>\n",
       "      <th>Cabin_Initial_C</th>\n",
       "      <th>Cabin_Initial_D</th>\n",
       "      <th>Cabin_Initial_E</th>\n",
       "      <th>Cabin_Initial_N</th>\n",
       "      <th>Cabin_Initial_Others</th>\n",
       "      <th>IsAlone</th>\n",
       "      <th>Family_size_small</th>\n",
       "      <th>Family_size_mid</th>\n",
       "      <th>Family_size_big</th>\n",
       "    </tr>\n",
       "  </thead>\n",
       "  <tbody>\n",
       "    <tr>\n",
       "      <th>0</th>\n",
       "      <td>3</td>\n",
       "      <td>0</td>\n",
       "      <td>7.8292</td>\n",
       "      <td>1</td>\n",
       "      <td>0</td>\n",
       "      <td>1</td>\n",
       "      <td>0</td>\n",
       "      <td>0</td>\n",
       "      <td>0</td>\n",
       "      <td>1</td>\n",
       "      <td>...</td>\n",
       "      <td>0</td>\n",
       "      <td>0</td>\n",
       "      <td>0</td>\n",
       "      <td>0</td>\n",
       "      <td>1</td>\n",
       "      <td>0</td>\n",
       "      <td>1</td>\n",
       "      <td>0</td>\n",
       "      <td>0</td>\n",
       "      <td>0</td>\n",
       "    </tr>\n",
       "    <tr>\n",
       "      <th>1</th>\n",
       "      <td>3</td>\n",
       "      <td>1</td>\n",
       "      <td>7.0000</td>\n",
       "      <td>1</td>\n",
       "      <td>0</td>\n",
       "      <td>0</td>\n",
       "      <td>1</td>\n",
       "      <td>0</td>\n",
       "      <td>0</td>\n",
       "      <td>1</td>\n",
       "      <td>...</td>\n",
       "      <td>0</td>\n",
       "      <td>0</td>\n",
       "      <td>0</td>\n",
       "      <td>0</td>\n",
       "      <td>1</td>\n",
       "      <td>0</td>\n",
       "      <td>0</td>\n",
       "      <td>1</td>\n",
       "      <td>0</td>\n",
       "      <td>0</td>\n",
       "    </tr>\n",
       "    <tr>\n",
       "      <th>2</th>\n",
       "      <td>2</td>\n",
       "      <td>0</td>\n",
       "      <td>9.6875</td>\n",
       "      <td>1</td>\n",
       "      <td>0</td>\n",
       "      <td>1</td>\n",
       "      <td>0</td>\n",
       "      <td>0</td>\n",
       "      <td>1</td>\n",
       "      <td>0</td>\n",
       "      <td>...</td>\n",
       "      <td>0</td>\n",
       "      <td>0</td>\n",
       "      <td>0</td>\n",
       "      <td>0</td>\n",
       "      <td>1</td>\n",
       "      <td>0</td>\n",
       "      <td>1</td>\n",
       "      <td>0</td>\n",
       "      <td>0</td>\n",
       "      <td>0</td>\n",
       "    </tr>\n",
       "    <tr>\n",
       "      <th>3</th>\n",
       "      <td>3</td>\n",
       "      <td>0</td>\n",
       "      <td>8.6625</td>\n",
       "      <td>1</td>\n",
       "      <td>0</td>\n",
       "      <td>0</td>\n",
       "      <td>1</td>\n",
       "      <td>0</td>\n",
       "      <td>0</td>\n",
       "      <td>1</td>\n",
       "      <td>...</td>\n",
       "      <td>0</td>\n",
       "      <td>0</td>\n",
       "      <td>0</td>\n",
       "      <td>0</td>\n",
       "      <td>1</td>\n",
       "      <td>0</td>\n",
       "      <td>1</td>\n",
       "      <td>0</td>\n",
       "      <td>0</td>\n",
       "      <td>0</td>\n",
       "    </tr>\n",
       "    <tr>\n",
       "      <th>4</th>\n",
       "      <td>3</td>\n",
       "      <td>1</td>\n",
       "      <td>12.2875</td>\n",
       "      <td>2</td>\n",
       "      <td>0</td>\n",
       "      <td>0</td>\n",
       "      <td>1</td>\n",
       "      <td>0</td>\n",
       "      <td>0</td>\n",
       "      <td>1</td>\n",
       "      <td>...</td>\n",
       "      <td>0</td>\n",
       "      <td>0</td>\n",
       "      <td>0</td>\n",
       "      <td>0</td>\n",
       "      <td>1</td>\n",
       "      <td>0</td>\n",
       "      <td>0</td>\n",
       "      <td>1</td>\n",
       "      <td>0</td>\n",
       "      <td>0</td>\n",
       "    </tr>\n",
       "  </tbody>\n",
       "</table>\n",
       "<p>5 rows × 31 columns</p>\n",
       "</div>"
      ],
      "text/plain": [
       "   Pclass  Sex     Fare  n_same_ticket  Embarked_C  Embarked_Q  Embarked_S  \\\n",
       "0       3    0   7.8292              1           0           1           0   \n",
       "1       3    1   7.0000              1           0           0           1   \n",
       "2       2    0   9.6875              1           0           1           0   \n",
       "3       3    0   8.6625              1           0           0           1   \n",
       "4       3    1  12.2875              2           0           0           1   \n",
       "\n",
       "   Ticket_ini_1  Ticket_ini_2  Ticket_ini_3  ...  Cabin_Initial_B  \\\n",
       "0             0             0             1  ...                0   \n",
       "1             0             0             1  ...                0   \n",
       "2             0             1             0  ...                0   \n",
       "3             0             0             1  ...                0   \n",
       "4             0             0             1  ...                0   \n",
       "\n",
       "   Cabin_Initial_C  Cabin_Initial_D  Cabin_Initial_E  Cabin_Initial_N  \\\n",
       "0                0                0                0                1   \n",
       "1                0                0                0                1   \n",
       "2                0                0                0                1   \n",
       "3                0                0                0                1   \n",
       "4                0                0                0                1   \n",
       "\n",
       "   Cabin_Initial_Others  IsAlone  Family_size_small  Family_size_mid  \\\n",
       "0                     0        1                  0                0   \n",
       "1                     0        0                  1                0   \n",
       "2                     0        1                  0                0   \n",
       "3                     0        1                  0                0   \n",
       "4                     0        0                  1                0   \n",
       "\n",
       "   Family_size_big  \n",
       "0                0  \n",
       "1                0  \n",
       "2                0  \n",
       "3                0  \n",
       "4                0  \n",
       "\n",
       "[5 rows x 31 columns]"
      ]
     },
     "execution_count": 91,
     "metadata": {},
     "output_type": "execute_result"
    }
   ],
   "source": [
    "X_test.head()"
   ]
  },
  {
   "cell_type": "code",
   "execution_count": 92,
   "metadata": {},
   "outputs": [
    {
     "name": "stdout",
     "output_type": "stream",
     "text": [
      "Pclass 1\n",
      "Sex 2\n",
      "Fare 3\n",
      "n_same_ticket 4\n",
      "Embarked_C 5\n",
      "Embarked_Q 6\n",
      "Embarked_S 7\n",
      "Ticket_ini_1 8\n",
      "Ticket_ini_2 9\n",
      "Ticket_ini_3 10\n",
      "Ticket_ini_A 11\n",
      "Ticket_ini_C 12\n",
      "Ticket_ini_Others 13\n",
      "Ticket_ini_P 14\n",
      "Ticket_ini_S 15\n",
      "Ticket_ini_W 16\n",
      "Title_Master. 17\n",
      "Title_Miss. 18\n",
      "Title_Mr. 19\n",
      "Title_Mrs. 20\n",
      "Title_Title-others 21\n",
      "Cabin_Initial_B 22\n",
      "Cabin_Initial_C 23\n",
      "Cabin_Initial_D 24\n",
      "Cabin_Initial_E 25\n",
      "Cabin_Initial_N 26\n",
      "Cabin_Initial_Others 27\n",
      "IsAlone 28\n",
      "Family_size_small 29\n",
      "Family_size_mid 30\n",
      "Family_size_big 31\n"
     ]
    }
   ],
   "source": [
    "count = 0\n",
    "for i in X_test.columns:\n",
    "    count += 1\n",
    "    print(i,count)"
   ]
  },
  {
   "cell_type": "markdown",
   "metadata": {},
   "source": [
    "### 2.2 ハイパーパラメータ の調節"
   ]
  },
  {
   "cell_type": "code",
   "execution_count": 95,
   "metadata": {},
   "outputs": [
    {
     "name": "stdout",
     "output_type": "stream",
     "text": [
      "max_depth: 5, min_samples_leaf:1, train log_loss: 0.367, valid log_loss: 0.419\n",
      "max_depth: 5, min_samples_leaf:2, train log_loss: 0.375, valid log_loss: 0.422\n",
      "max_depth: 5, min_samples_leaf:4, train log_loss: 0.388, valid log_loss: 0.425\n",
      "max_depth: 7, min_samples_leaf:1, train log_loss: 0.3, valid log_loss: 0.408\n",
      "max_depth: 7, min_samples_leaf:2, train log_loss: 0.33, valid log_loss: 0.412\n",
      "max_depth: 7, min_samples_leaf:4, train log_loss: 0.362, valid log_loss: 0.419\n",
      "max_depth: 10, min_samples_leaf:1, train log_loss: 0.225, valid log_loss: 0.426\n",
      "max_depth: 10, min_samples_leaf:2, train log_loss: 0.297, valid log_loss: 0.416\n",
      "max_depth: 10, min_samples_leaf:4, train log_loss: 0.35, valid log_loss: 0.418\n",
      "\n",
      "Best params:\n",
      "max_depth: 7, min_samples_leaf:1, train log_loss: 0.3, valid log_loss: 0.408\n"
     ]
    }
   ],
   "source": [
    "X_train, X_valid, y_train, y_valid = train_test_split(X, y, test_size=0.2, random_state=42)\n",
    "\n",
    "\n",
    "from sklearn.ensemble import RandomForestClassifier\n",
    "\n",
    "parameters= {'max_depth': [5, 7,10],\n",
    "              'min_samples_leaf': [1, 2, 4],\n",
    "             'n_estimators':532}\n",
    "\n",
    "skf = StratifiedKFold(n_splits=5,shuffle=True,random_state=42)\n",
    "\n",
    "\n",
    "best_val_loss = 999\n",
    "for max_depth in parameters['max_depth']:\n",
    "    for min_samples_leaf in parameters['min_samples_leaf']:\n",
    "        val_losses = []\n",
    "        tra_losses = []\n",
    "        for train_index,test_index in skf.split(X_train,y_train):\n",
    "            X_tr = X_train.iloc[train_index]\n",
    "            y_tr = y_train.iloc[train_index]\n",
    "            X_va = X_train.iloc[test_index]\n",
    "            y_va = y_train.iloc[test_index]\n",
    "\n",
    "            scaler = StandardScaler()\n",
    "            scaler.fit(X_tr)\n",
    "            X_tr = scaler.transform(X_tr)\n",
    "            X_va = scaler.transform(X_va)\n",
    "            \n",
    "            clf = RandomForestClassifier(max_depth=max_depth, min_samples_leaf=min_samples_leaf, \n",
    "                                                n_estimators=parameters['n_estimators'], n_jobs=-1, random_state=42)\n",
    "            clf.fit(X_tr,y_tr)\n",
    "            \n",
    "            pred_val_y = clf.predict_proba(X_va)\n",
    "            pred_tra_y = clf.predict_proba(X_tr)\n",
    "            val_loss = log_loss(y_va,pred_val_y)\n",
    "            tra_loss = log_loss(y_tr,pred_tra_y)\n",
    "            val_losses.append(val_loss)\n",
    "            tra_losses.append(tra_loss)\n",
    "        ave_tra_loss = sum(tra_losses)/len(tra_losses)\n",
    "        ave_val_loss = sum(val_losses)/len(val_losses)\n",
    "        if ave_val_loss < best_val_loss:\n",
    "            best_val_loss = ave_val_loss\n",
    "            best_tra_loss = ave_tra_loss\n",
    "            best_params={\n",
    "                'max_depth':max_depth,\n",
    "                'min_samples_leaf':min_samples_leaf,\n",
    "                'n_estimators':parameters['n_estimators']\n",
    "            }\n",
    "        print('max_depth: {}, min_samples_leaf:{}, train log_loss: {}, valid log_loss: {}'.format(max_depth,min_samples_leaf,round(ave_tra_loss,3),round(ave_val_loss,3)))\n",
    "print('\\nBest params:')\n",
    "print('max_depth: {}, min_samples_leaf:{}, train log_loss: {}, valid log_loss: {}'.format(best_params['max_depth'],best_params['min_samples_leaf'],round(best_tra_loss,3),round(best_val_loss,3)))\n"
   ]
  },
  {
   "cell_type": "markdown",
   "metadata": {},
   "source": [
    "### 2.3 重要変数をプロット"
   ]
  },
  {
   "cell_type": "code",
   "execution_count": 105,
   "metadata": {},
   "outputs": [
    {
     "name": "stdout",
     "output_type": "stream",
     "text": [
      "Classification accuracy:  0.827\n",
      "Test loss:  0.405\n"
     ]
    },
    {
     "data": {
      "text/plain": [
       "Text(0.5, 1.0, 'RandomForestClassifier feature importance')"
      ]
     },
     "execution_count": 105,
     "metadata": {},
     "output_type": "execute_result"
    },
    {
     "data": {
      "text/plain": [
       "<Figure size 1440x720 with 0 Axes>"
      ]
     },
     "metadata": {},
     "output_type": "display_data"
    },
    {
     "data": {
      "image/png": "[encoded data removed]",
      "text/plain": [
       "<Figure size 576x432 with 1 Axes>"
      ]
     },
     "metadata": {
      "needs_background": "light"
     },
     "output_type": "display_data"
    }
   ],
   "source": [
    "plt.figure(figsize=(20,10))\n",
    "\n",
    "clf = RandomForestClassifier(max_depth=best_params['max_depth'], min_samples_leaf=best_params['min_samples_leaf'], n_estimators=best_params['n_estimators'], n_jobs=-1, random_state=42)\n",
    "clf.fit(X_train,y_train)\n",
    "\n",
    "print('Classification accuracy: ',round(clf.score(X_valid,y_valid),3))\n",
    "pred_val_y = clf.predict_proba(X_valid)\n",
    "val_loss = log_loss(y_valid,pred_val_y)\n",
    "print('Test loss: ', round(val_loss,3))\n",
    "\n",
    "\n",
    "feature_list = [int(i) for i in np.argsort(clf.feature_importances_)]\n",
    "\n",
    "fig = plt.figure(figsize=(8.0, 6.0))\n",
    "ax = fig.add_subplot(111)\n",
    "plt.barh(\n",
    "    X.columns[feature_list],\n",
    "    clf.feature_importances_[feature_list],\n",
    "    label='RandomForestClassifier'\n",
    ")\n",
    "plt.title('RandomForestClassifier feature importance')"
   ]
  },
  {
   "cell_type": "markdown",
   "metadata": {},
   "source": [
    "### 2.4 10foldの10個の予測式を用いてEnsembleする"
   ]
  },
  {
   "cell_type": "code",
   "execution_count": 96,
   "metadata": {},
   "outputs": [],
   "source": [
    "from sklearn.ensemble import RandomForestClassifier\n",
    "\n",
    "class RF:\n",
    "    def __init__(self):\n",
    "        self.model = None\n",
    "        self.scaler = None\n",
    "    def fit(self, tr_x, tr_y, va_x, va_y):\n",
    "        print('Model1RF')\n",
    "        #self.scaler = StandardScaler()\n",
    "        #self.scaler.fit(tr_x)\n",
    "        #tr_x = self.scaler.transform(tr_x)\n",
    "        self.model = RandomForestClassifier(max_depth=7, min_samples_leaf=1, n_estimators=532, n_jobs=-1, random_state=42)\n",
    "        self.model.fit(tr_x,tr_y)\n",
    "\n",
    "        #print('Train Score: {}'.format(round(self.model .score(tr_x, tr_y), 3)))\n",
    "        #print(' Test Score: {}'.format(round(self.model .score(va_x, va_y), 3)))\n",
    "        \n",
    "    def predict(self,x):\n",
    "        #x = self.scaler.transform(x)\n",
    "        pred = self.model.predict_proba(x)\n",
    "        return pred"
   ]
  },
  {
   "cell_type": "code",
   "execution_count": 97,
   "metadata": {},
   "outputs": [],
   "source": [
    "def predict_cv(model, train_x, train_y, test_x):\n",
    "    preds = []\n",
    "    preds_test = []\n",
    "    va_idxes = []\n",
    "\n",
    "    #kf = KFold(n_splits=5, shuffle=True, random_state=10)\n",
    "    skf = StratifiedKFold(n_splits=10,shuffle=True,random_state=42)\n",
    "\n",
    "    # クロスバリデーションで学習・予測を行い、予測値とインデックスを保存する\n",
    "    for i, (tr_idx, va_idx) in enumerate(skf.split(train_x,train_y)):#.split(train_x)):\n",
    "        tr_x, va_x = train_x.iloc[tr_idx], train_x.iloc[va_idx]\n",
    "        tr_y, va_y = train_y.iloc[tr_idx], train_y.iloc[va_idx]\n",
    "        model.fit(tr_x, tr_y, va_x, va_y)\n",
    "        pred = model.predict(va_x)\n",
    "        preds.append(pred)\n",
    "        pred_test = model.predict(test_x)\n",
    "        preds_test.append(pred_test)\n",
    "        va_idxes.append(va_idx)\n",
    "\n",
    "    # バリデーションデータに対する予測値を連結し、その後元の順序に並べ直す\n",
    "    va_idxes = np.concatenate(va_idxes)\n",
    "    preds = np.concatenate(preds, axis=0)\n",
    "    order = np.argsort(va_idxes)\n",
    "    pred_train = preds[order]\n",
    "\n",
    "    # テストデータに対する予測値の平均をとる\n",
    "    preds_test = np.mean(preds_test, axis=0)\n",
    "\n",
    "    return pred_train, preds_test"
   ]
  },
  {
   "cell_type": "code",
   "execution_count": 98,
   "metadata": {},
   "outputs": [
    {
     "name": "stdout",
     "output_type": "stream",
     "text": [
      "Model1RF\n",
      "Train Score: 0.888\n",
      " Test Score: 0.856\n",
      "Model1RF\n",
      "Train Score: 0.88\n",
      " Test Score: 0.831\n",
      "Model1RF\n",
      "Train Score: 0.88\n",
      " Test Score: 0.809\n",
      "Model1RF\n",
      "Train Score: 0.888\n",
      " Test Score: 0.843\n",
      "Model1RF\n",
      "Train Score: 0.885\n",
      " Test Score: 0.798\n",
      "Model1RF\n",
      "Train Score: 0.882\n",
      " Test Score: 0.843\n",
      "Model1RF\n",
      "Train Score: 0.877\n",
      " Test Score: 0.843\n",
      "Model1RF\n",
      "Train Score: 0.887\n",
      " Test Score: 0.798\n",
      "Model1RF\n",
      "Train Score: 0.888\n",
      " Test Score: 0.831\n",
      "Model1RF\n",
      "Train Score: 0.882\n",
      " Test Score: 0.854\n"
     ]
    }
   ],
   "source": [
    "RF = RF()\n",
    "pred_train, pred_test= predict_cv(RF, X, y, X_test)"
   ]
  },
  {
   "cell_type": "code",
   "execution_count": 107,
   "metadata": {},
   "outputs": [
    {
     "name": "stdout",
     "output_type": "stream",
     "text": [
      "RandomForest validation log_loss (10fold Ensebmle): 0.3953\n"
     ]
    }
   ],
   "source": [
    "print(f'RandomForest validation log_loss (10fold Ensebmle): {log_loss(y,pred_train):.4f}')"
   ]
  },
  {
   "cell_type": "code",
   "execution_count": null,
   "metadata": {},
   "outputs": [],
   "source": [
    "def accuracy(y_true, y_predict,border):\n",
    "    y_pred_list = np.array([],dtype=np.int)\n",
    "\n",
    "    count = 0\n",
    "    for y in y_predict:\n",
    "        count += 1\n",
    "        if y > border:\n",
    "            y_pred_list = np.append(y_pred_list, 1)\n",
    "        else:\n",
    "            y_pred_list = np.append(y_pred_list, 0)\n",
    "    #print(count)                                                                                                                                                                                           \n",
    "    n = len(y_pred_list)\n",
    "    acc = np.where(y_true.values==y_pred_list)[0]\n",
    "\n",
    "    return len(acc)/n,y_pred_list\n",
    "\n",
    "\n",
    "border=0.50\n",
    "acc,y_pred_list = accuracy(y, pred_train[:,1],border)\n",
    "print(border,round(acc,4))"
   ]
  },
  {
   "cell_type": "code",
   "execution_count": null,
   "metadata": {},
   "outputs": [],
   "source": [
    "def make_01(y_predict):\n",
    "    y_pred_list = np.array([],dtype=np.int)\n",
    "    #print(y_predict[:,0])                                                                                                                                                                                  \n",
    "    for y in y_predict:\n",
    "        if y > 0.50:\n",
    "            y_pred_list = np.append(y_pred_list, 1)\n",
    "        else:\n",
    "            y_pred_list = np.append(y_pred_list, 0)\n",
    "    return y_pred_list"
   ]
  },
  {
   "cell_type": "code",
   "execution_count": null,
   "metadata": {},
   "outputs": [],
   "source": [
    "test_pred = make_01(pred_test[:,[1]])"
   ]
  },
  {
   "cell_type": "markdown",
   "metadata": {},
   "source": [
    "## 3. 提出"
   ]
  },
  {
   "cell_type": "code",
   "execution_count": null,
   "metadata": {},
   "outputs": [],
   "source": [
    "submission = pd.read_csv(path + 'gender_submission.csv')\n",
    "submission['Survived'] = test_pred\n",
    "submission"
   ]
  },
  {
   "cell_type": "code",
   "execution_count": null,
   "metadata": {},
   "outputs": [],
   "source": [
    "name = './my_Randomforest_best_model_submission.csv'\n",
    "submission.to_csv(name,index=False)"
   ]
  },
  {
   "cell_type": "code",
   "execution_count": null,
   "metadata": {},
   "outputs": [],
   "source": []
  }
 ],
 "metadata": {
  "kernelspec": {
   "display_name": "Python 3",
   "language": "python",
   "name": "python3"
  },
  "language_info": {
   "codemirror_mode": {
    "name": "ipython",
    "version": 3
   },
   "file_extension": ".py",
   "mimetype": "text/x-python",
   "name": "python",
   "nbconvert_exporter": "python",
   "pygments_lexer": "ipython3",
   "version": "3.6.8"
  }
 },
 "nbformat": 4,
 "nbformat_minor": 4
}
